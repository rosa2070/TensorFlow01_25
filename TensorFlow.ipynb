{
  "nbformat": 4,
  "nbformat_minor": 0,
  "metadata": {
    "colab": {
      "name": "TensorFlow.ipynb",
      "provenance": [],
      "authorship_tag": "ABX9TyNP4azbwt3RLRXh9RhhU/9j",
      "include_colab_link": true
    },
    "kernelspec": {
      "name": "python3",
      "display_name": "Python 3"
    }
  },
  "cells": [
    {
      "cell_type": "markdown",
      "metadata": {
        "id": "view-in-github",
        "colab_type": "text"
      },
      "source": [
        "<a href=\"https://colab.research.google.com/github/rosa2070/TensorFlow01_25/blob/main/TensorFlow.ipynb\" target=\"_parent\"><img src=\"https://colab.research.google.com/assets/colab-badge.svg\" alt=\"Open In Colab\"/></a>"
      ]
    },
    {
      "cell_type": "markdown",
      "metadata": {
        "id": "-68nOQiqeZCK"
      },
      "source": [
        "\r\n",
        "## TensorFlow로 알아보는 딥러닝\r\n",
        "\r\n"
      ]
    },
    {
      "cell_type": "code",
      "metadata": {
        "id": "CljyRcZnc-H6"
      },
      "source": [
        "import tensorflow as tf\r\n",
        "import pandas as pd"
      ],
      "execution_count": null,
      "outputs": []
    },
    {
      "cell_type": "code",
      "metadata": {
        "colab": {
          "base_uri": "https://localhost:8080/",
          "height": 199
        },
        "id": "IhiA7FVsfppS",
        "outputId": "cc2c223e-c37d-4ebd-ae6b-e1878532fdc1"
      },
      "source": [
        "data = {\r\n",
        "    '창업연차' : [4, 5, 6, 7, 8],\r\n",
        "    '매출액(억)' : [8, 10, 12, 14, 16]\r\n",
        "}\r\n",
        "\r\n",
        "df = pd.DataFrame(data)\r\n",
        "df"
      ],
      "execution_count": null,
      "outputs": [
        {
          "output_type": "execute_result",
          "data": {
            "text/html": [
              "<div>\n",
              "<style scoped>\n",
              "    .dataframe tbody tr th:only-of-type {\n",
              "        vertical-align: middle;\n",
              "    }\n",
              "\n",
              "    .dataframe tbody tr th {\n",
              "        vertical-align: top;\n",
              "    }\n",
              "\n",
              "    .dataframe thead th {\n",
              "        text-align: right;\n",
              "    }\n",
              "</style>\n",
              "<table border=\"1\" class=\"dataframe\">\n",
              "  <thead>\n",
              "    <tr style=\"text-align: right;\">\n",
              "      <th></th>\n",
              "      <th>창업연차</th>\n",
              "      <th>매출액(억)</th>\n",
              "    </tr>\n",
              "  </thead>\n",
              "  <tbody>\n",
              "    <tr>\n",
              "      <th>0</th>\n",
              "      <td>4</td>\n",
              "      <td>8</td>\n",
              "    </tr>\n",
              "    <tr>\n",
              "      <th>1</th>\n",
              "      <td>5</td>\n",
              "      <td>10</td>\n",
              "    </tr>\n",
              "    <tr>\n",
              "      <th>2</th>\n",
              "      <td>6</td>\n",
              "      <td>12</td>\n",
              "    </tr>\n",
              "    <tr>\n",
              "      <th>3</th>\n",
              "      <td>7</td>\n",
              "      <td>14</td>\n",
              "    </tr>\n",
              "    <tr>\n",
              "      <th>4</th>\n",
              "      <td>8</td>\n",
              "      <td>16</td>\n",
              "    </tr>\n",
              "  </tbody>\n",
              "</table>\n",
              "</div>"
            ],
            "text/plain": [
              "   창업연차  매출액(억)\n",
              "0     4       8\n",
              "1     5      10\n",
              "2     6      12\n",
              "3     7      14\n",
              "4     8      16"
            ]
          },
          "metadata": {
            "tags": []
          },
          "execution_count": 2
        }
      ]
    },
    {
      "cell_type": "code",
      "metadata": {
        "colab": {
          "base_uri": "https://localhost:8080/"
        },
        "id": "QoaaZfCMg_8n",
        "outputId": "6878d884-e9ee-4fcf-dec9-f18ebce2e011"
      },
      "source": [
        "독립 = df[['창업연차']] # 원인\r\n",
        "종속 = df[['매출액(억)']] # 결과\r\n",
        "\r\n",
        "독립.shape, 종속.shape"
      ],
      "execution_count": null,
      "outputs": [
        {
          "output_type": "execute_result",
          "data": {
            "text/plain": [
              "((5, 1), (5, 1))"
            ]
          },
          "metadata": {
            "tags": []
          },
          "execution_count": 4
        }
      ]
    },
    {
      "cell_type": "code",
      "metadata": {
        "id": "453E0m-PiXvJ"
      },
      "source": [
        "## 모델 준비(y = wx + b)\r\n",
        "X = tf.keras.layers.Input(shape=[1]) # 독립변수의 col\r\n",
        "Y = tf.keras.layers.Dense(1)(X) # 종속변수의 col\r\n",
        "model = tf.keras.models.Model(X, Y)\r\n",
        "model.compile(loss='mse') \r\n",
        "#MSE(mean squared error) : 회귀 용도의 딥러닝 모델을 훈련시킬 때 사용되는 손실 함수"
      ],
      "execution_count": null,
      "outputs": []
    },
    {
      "cell_type": "code",
      "metadata": {
        "colab": {
          "base_uri": "https://localhost:8080/"
        },
        "id": "FswPxw44jhqs",
        "outputId": "f1f2589f-dbf1-4f33-d17d-cc242e0697cf"
      },
      "source": [
        "model.fit(독립, 종속, epochs = 10)"
      ],
      "execution_count": null,
      "outputs": [
        {
          "output_type": "stream",
          "text": [
            "Epoch 1/10\n",
            "1/1 [==============================] - 1s 520ms/step - loss: 160.4822\n",
            "Epoch 2/10\n",
            "1/1 [==============================] - 0s 6ms/step - loss: 159.9109\n",
            "Epoch 3/10\n",
            "1/1 [==============================] - 0s 4ms/step - loss: 159.4973\n",
            "Epoch 4/10\n",
            "1/1 [==============================] - 0s 4ms/step - loss: 159.1517\n",
            "Epoch 5/10\n",
            "1/1 [==============================] - 0s 5ms/step - loss: 158.8453\n",
            "Epoch 6/10\n",
            "1/1 [==============================] - 0s 7ms/step - loss: 158.5648\n",
            "Epoch 7/10\n",
            "1/1 [==============================] - 0s 4ms/step - loss: 158.3029\n",
            "Epoch 8/10\n",
            "1/1 [==============================] - 0s 4ms/step - loss: 158.0550\n",
            "Epoch 9/10\n",
            "1/1 [==============================] - 0s 4ms/step - loss: 157.8179\n",
            "Epoch 10/10\n",
            "1/1 [==============================] - 0s 4ms/step - loss: 157.5895\n"
          ],
          "name": "stdout"
        },
        {
          "output_type": "execute_result",
          "data": {
            "text/plain": [
              "<tensorflow.python.keras.callbacks.History at 0x7f7ffc89fa58>"
            ]
          },
          "metadata": {
            "tags": []
          },
          "execution_count": 7
        }
      ]
    },
    {
      "cell_type": "code",
      "metadata": {
        "colab": {
          "base_uri": "https://localhost:8080/"
        },
        "id": "9IEEec7GjwC8",
        "outputId": "e5b45ee2-97ce-4ae1-b58c-faaab52d55d1"
      },
      "source": [
        "model.predict([10])"
      ],
      "execution_count": null,
      "outputs": [
        {
          "output_type": "execute_result",
          "data": {
            "text/plain": [
              "array([[-0.36012468]], dtype=float32)"
            ]
          },
          "metadata": {
            "tags": []
          },
          "execution_count": 8
        }
      ]
    },
    {
      "cell_type": "code",
      "metadata": {
        "colab": {
          "base_uri": "https://localhost:8080/"
        },
        "id": "eG6s3ReEkAQX",
        "outputId": "6e698f41-d4ce-4c5e-d7fc-df76b6ec2510"
      },
      "source": [
        "model.predict(독립)"
      ],
      "execution_count": null,
      "outputs": [
        {
          "output_type": "execute_result",
          "data": {
            "text/plain": [
              "array([[-0.13366769],\n",
              "       [-0.17141052],\n",
              "       [-0.20915335],\n",
              "       [-0.24689619],\n",
              "       [-0.28463903]], dtype=float32)"
            ]
          },
          "metadata": {
            "tags": []
          },
          "execution_count": 9
        }
      ]
    },
    {
      "cell_type": "code",
      "metadata": {
        "colab": {
          "base_uri": "https://localhost:8080/"
        },
        "id": "II13vlSlkIhZ",
        "outputId": "24eaac40-b9bf-415a-88bb-a828f89abf8c"
      },
      "source": [
        "#y = wx + b\r\n",
        "\r\n",
        "model.get_weights()"
      ],
      "execution_count": null,
      "outputs": [
        {
          "output_type": "execute_result",
          "data": {
            "text/plain": [
              "[array([[-0.03774283]], dtype=float32), array([0.01730363], dtype=float32)]"
            ]
          },
          "metadata": {
            "tags": []
          },
          "execution_count": 10
        }
      ]
    },
    {
      "cell_type": "code",
      "metadata": {
        "colab": {
          "base_uri": "https://localhost:8080/"
        },
        "id": "sk8hcM6RkbPY",
        "outputId": "44012b5d-8c76-4b54-bc02-96b1d2356e70"
      },
      "source": [
        "-0.03774283 * 10 + 0.01730363"
      ],
      "execution_count": null,
      "outputs": [
        {
          "output_type": "execute_result",
          "data": {
            "text/plain": [
              "-0.36012467"
            ]
          },
          "metadata": {
            "tags": []
          },
          "execution_count": 12
        }
      ]
    },
    {
      "cell_type": "code",
      "metadata": {
        "colab": {
          "base_uri": "https://localhost:8080/"
        },
        "id": "tfxJnn4Ykq5m",
        "outputId": "8baddc22-58b7-4579-8c17-961777b16f9d"
      },
      "source": [
        "model.fit(독립, 종속, epochs = 10000, verbose=0)\r\n",
        "model.fit(독립, 종속, epochs = 10)"
      ],
      "execution_count": null,
      "outputs": [
        {
          "output_type": "stream",
          "text": [
            "Epoch 1/10\n",
            "1/1 [==============================] - 0s 4ms/step - loss: 1.2749e-05\n",
            "Epoch 2/10\n",
            "1/1 [==============================] - 0s 8ms/step - loss: 1.2750e-05\n",
            "Epoch 3/10\n",
            "1/1 [==============================] - 0s 4ms/step - loss: 1.2749e-05\n",
            "Epoch 4/10\n",
            "1/1 [==============================] - 0s 3ms/step - loss: 1.2750e-05\n",
            "Epoch 5/10\n",
            "1/1 [==============================] - 0s 4ms/step - loss: 1.2749e-05\n",
            "Epoch 6/10\n",
            "1/1 [==============================] - 0s 4ms/step - loss: 1.2750e-05\n",
            "Epoch 7/10\n",
            "1/1 [==============================] - 0s 3ms/step - loss: 1.2749e-05\n",
            "Epoch 8/10\n",
            "1/1 [==============================] - 0s 3ms/step - loss: 1.2750e-05\n",
            "Epoch 9/10\n",
            "1/1 [==============================] - 0s 5ms/step - loss: 1.2749e-05\n",
            "Epoch 10/10\n",
            "1/1 [==============================] - 0s 4ms/step - loss: 1.2750e-05\n"
          ],
          "name": "stdout"
        },
        {
          "output_type": "execute_result",
          "data": {
            "text/plain": [
              "<tensorflow.python.keras.callbacks.History at 0x7f7ff91506a0>"
            ]
          },
          "metadata": {
            "tags": []
          },
          "execution_count": 13
        }
      ]
    },
    {
      "cell_type": "code",
      "metadata": {
        "colab": {
          "base_uri": "https://localhost:8080/"
        },
        "id": "S4Ub7QXWlBdc",
        "outputId": "47f42424-e233-4c8c-91d5-32a5cab49524"
      },
      "source": [
        "model.predict(독립)"
      ],
      "execution_count": null,
      "outputs": [
        {
          "output_type": "execute_result",
          "data": {
            "text/plain": [
              "array([[ 8.002501],\n",
              "       [10.003   ],\n",
              "       [12.0035  ],\n",
              "       [14.004   ],\n",
              "       [16.0045  ]], dtype=float32)"
            ]
          },
          "metadata": {
            "tags": []
          },
          "execution_count": 14
        }
      ]
    },
    {
      "cell_type": "code",
      "metadata": {
        "colab": {
          "base_uri": "https://localhost:8080/"
        },
        "id": "1dFePUF2kmgY",
        "outputId": "0aeef8e6-cf64-417b-f48e-d228f4c4d9e6"
      },
      "source": [
        "model.predict([10])"
      ],
      "execution_count": null,
      "outputs": [
        {
          "output_type": "execute_result",
          "data": {
            "text/plain": [
              "array([[20.005499]], dtype=float32)"
            ]
          },
          "metadata": {
            "tags": []
          },
          "execution_count": 15
        }
      ]
    },
    {
      "cell_type": "code",
      "metadata": {
        "colab": {
          "base_uri": "https://localhost:8080/"
        },
        "id": "tFKvH9NUlbDf",
        "outputId": "5ecedfd9-7f1c-4d2d-eee5-92a3388ad9db"
      },
      "source": [
        "#y = wx + b\r\n",
        "\r\n",
        "model.get_weights()"
      ],
      "execution_count": null,
      "outputs": [
        {
          "output_type": "execute_result",
          "data": {
            "text/plain": [
              "[array([[2.0004997]], dtype=float32), array([0.00050134], dtype=float32)]"
            ]
          },
          "metadata": {
            "tags": []
          },
          "execution_count": 16
        }
      ]
    },
    {
      "cell_type": "code",
      "metadata": {
        "id": "J4HJFGUnlnwI",
        "colab": {
          "base_uri": "https://localhost:8080/"
        },
        "outputId": "a3cb6469-c945-4513-935d-7ca791046ef5"
      },
      "source": [
        "2.0004997 * 10 + 0.00050134"
      ],
      "execution_count": null,
      "outputs": [
        {
          "output_type": "execute_result",
          "data": {
            "text/plain": [
              "20.005498340000003"
            ]
          },
          "metadata": {
            "tags": []
          },
          "execution_count": 17
        }
      ]
    },
    {
      "cell_type": "code",
      "metadata": {
        "id": "EREW68ofltKX"
      },
      "source": [
        "import tensorflow as tf\r\n",
        "import pandas as pd"
      ],
      "execution_count": 11,
      "outputs": []
    },
    {
      "cell_type": "code",
      "metadata": {
        "colab": {
          "base_uri": "https://localhost:8080/"
        },
        "id": "ADpuJgBwLIdy",
        "outputId": "ddc26af7-6f94-41cd-8803-e4ea7d0e0993"
      },
      "source": [
        "from sklearn import datasets\r\n",
        "\r\n",
        "iris = datasets.load_iris()\r\n",
        "iris"
      ],
      "execution_count": 12,
      "outputs": [
        {
          "output_type": "execute_result",
          "data": {
            "text/plain": [
              "{'DESCR': '.. _iris_dataset:\\n\\nIris plants dataset\\n--------------------\\n\\n**Data Set Characteristics:**\\n\\n    :Number of Instances: 150 (50 in each of three classes)\\n    :Number of Attributes: 4 numeric, predictive attributes and the class\\n    :Attribute Information:\\n        - sepal length in cm\\n        - sepal width in cm\\n        - petal length in cm\\n        - petal width in cm\\n        - class:\\n                - Iris-Setosa\\n                - Iris-Versicolour\\n                - Iris-Virginica\\n                \\n    :Summary Statistics:\\n\\n    ============== ==== ==== ======= ===== ====================\\n                    Min  Max   Mean    SD   Class Correlation\\n    ============== ==== ==== ======= ===== ====================\\n    sepal length:   4.3  7.9   5.84   0.83    0.7826\\n    sepal width:    2.0  4.4   3.05   0.43   -0.4194\\n    petal length:   1.0  6.9   3.76   1.76    0.9490  (high!)\\n    petal width:    0.1  2.5   1.20   0.76    0.9565  (high!)\\n    ============== ==== ==== ======= ===== ====================\\n\\n    :Missing Attribute Values: None\\n    :Class Distribution: 33.3% for each of 3 classes.\\n    :Creator: R.A. Fisher\\n    :Donor: Michael Marshall (MARSHALL%PLU@io.arc.nasa.gov)\\n    :Date: July, 1988\\n\\nThe famous Iris database, first used by Sir R.A. Fisher. The dataset is taken\\nfrom Fisher\\'s paper. Note that it\\'s the same as in R, but not as in the UCI\\nMachine Learning Repository, which has two wrong data points.\\n\\nThis is perhaps the best known database to be found in the\\npattern recognition literature.  Fisher\\'s paper is a classic in the field and\\nis referenced frequently to this day.  (See Duda & Hart, for example.)  The\\ndata set contains 3 classes of 50 instances each, where each class refers to a\\ntype of iris plant.  One class is linearly separable from the other 2; the\\nlatter are NOT linearly separable from each other.\\n\\n.. topic:: References\\n\\n   - Fisher, R.A. \"The use of multiple measurements in taxonomic problems\"\\n     Annual Eugenics, 7, Part II, 179-188 (1936); also in \"Contributions to\\n     Mathematical Statistics\" (John Wiley, NY, 1950).\\n   - Duda, R.O., & Hart, P.E. (1973) Pattern Classification and Scene Analysis.\\n     (Q327.D83) John Wiley & Sons.  ISBN 0-471-22361-1.  See page 218.\\n   - Dasarathy, B.V. (1980) \"Nosing Around the Neighborhood: A New System\\n     Structure and Classification Rule for Recognition in Partially Exposed\\n     Environments\".  IEEE Transactions on Pattern Analysis and Machine\\n     Intelligence, Vol. PAMI-2, No. 1, 67-71.\\n   - Gates, G.W. (1972) \"The Reduced Nearest Neighbor Rule\".  IEEE Transactions\\n     on Information Theory, May 1972, 431-433.\\n   - See also: 1988 MLC Proceedings, 54-64.  Cheeseman et al\"s AUTOCLASS II\\n     conceptual clustering system finds 3 classes in the data.\\n   - Many, many more ...',\n",
              " 'data': array([[5.1, 3.5, 1.4, 0.2],\n",
              "        [4.9, 3. , 1.4, 0.2],\n",
              "        [4.7, 3.2, 1.3, 0.2],\n",
              "        [4.6, 3.1, 1.5, 0.2],\n",
              "        [5. , 3.6, 1.4, 0.2],\n",
              "        [5.4, 3.9, 1.7, 0.4],\n",
              "        [4.6, 3.4, 1.4, 0.3],\n",
              "        [5. , 3.4, 1.5, 0.2],\n",
              "        [4.4, 2.9, 1.4, 0.2],\n",
              "        [4.9, 3.1, 1.5, 0.1],\n",
              "        [5.4, 3.7, 1.5, 0.2],\n",
              "        [4.8, 3.4, 1.6, 0.2],\n",
              "        [4.8, 3. , 1.4, 0.1],\n",
              "        [4.3, 3. , 1.1, 0.1],\n",
              "        [5.8, 4. , 1.2, 0.2],\n",
              "        [5.7, 4.4, 1.5, 0.4],\n",
              "        [5.4, 3.9, 1.3, 0.4],\n",
              "        [5.1, 3.5, 1.4, 0.3],\n",
              "        [5.7, 3.8, 1.7, 0.3],\n",
              "        [5.1, 3.8, 1.5, 0.3],\n",
              "        [5.4, 3.4, 1.7, 0.2],\n",
              "        [5.1, 3.7, 1.5, 0.4],\n",
              "        [4.6, 3.6, 1. , 0.2],\n",
              "        [5.1, 3.3, 1.7, 0.5],\n",
              "        [4.8, 3.4, 1.9, 0.2],\n",
              "        [5. , 3. , 1.6, 0.2],\n",
              "        [5. , 3.4, 1.6, 0.4],\n",
              "        [5.2, 3.5, 1.5, 0.2],\n",
              "        [5.2, 3.4, 1.4, 0.2],\n",
              "        [4.7, 3.2, 1.6, 0.2],\n",
              "        [4.8, 3.1, 1.6, 0.2],\n",
              "        [5.4, 3.4, 1.5, 0.4],\n",
              "        [5.2, 4.1, 1.5, 0.1],\n",
              "        [5.5, 4.2, 1.4, 0.2],\n",
              "        [4.9, 3.1, 1.5, 0.2],\n",
              "        [5. , 3.2, 1.2, 0.2],\n",
              "        [5.5, 3.5, 1.3, 0.2],\n",
              "        [4.9, 3.6, 1.4, 0.1],\n",
              "        [4.4, 3. , 1.3, 0.2],\n",
              "        [5.1, 3.4, 1.5, 0.2],\n",
              "        [5. , 3.5, 1.3, 0.3],\n",
              "        [4.5, 2.3, 1.3, 0.3],\n",
              "        [4.4, 3.2, 1.3, 0.2],\n",
              "        [5. , 3.5, 1.6, 0.6],\n",
              "        [5.1, 3.8, 1.9, 0.4],\n",
              "        [4.8, 3. , 1.4, 0.3],\n",
              "        [5.1, 3.8, 1.6, 0.2],\n",
              "        [4.6, 3.2, 1.4, 0.2],\n",
              "        [5.3, 3.7, 1.5, 0.2],\n",
              "        [5. , 3.3, 1.4, 0.2],\n",
              "        [7. , 3.2, 4.7, 1.4],\n",
              "        [6.4, 3.2, 4.5, 1.5],\n",
              "        [6.9, 3.1, 4.9, 1.5],\n",
              "        [5.5, 2.3, 4. , 1.3],\n",
              "        [6.5, 2.8, 4.6, 1.5],\n",
              "        [5.7, 2.8, 4.5, 1.3],\n",
              "        [6.3, 3.3, 4.7, 1.6],\n",
              "        [4.9, 2.4, 3.3, 1. ],\n",
              "        [6.6, 2.9, 4.6, 1.3],\n",
              "        [5.2, 2.7, 3.9, 1.4],\n",
              "        [5. , 2. , 3.5, 1. ],\n",
              "        [5.9, 3. , 4.2, 1.5],\n",
              "        [6. , 2.2, 4. , 1. ],\n",
              "        [6.1, 2.9, 4.7, 1.4],\n",
              "        [5.6, 2.9, 3.6, 1.3],\n",
              "        [6.7, 3.1, 4.4, 1.4],\n",
              "        [5.6, 3. , 4.5, 1.5],\n",
              "        [5.8, 2.7, 4.1, 1. ],\n",
              "        [6.2, 2.2, 4.5, 1.5],\n",
              "        [5.6, 2.5, 3.9, 1.1],\n",
              "        [5.9, 3.2, 4.8, 1.8],\n",
              "        [6.1, 2.8, 4. , 1.3],\n",
              "        [6.3, 2.5, 4.9, 1.5],\n",
              "        [6.1, 2.8, 4.7, 1.2],\n",
              "        [6.4, 2.9, 4.3, 1.3],\n",
              "        [6.6, 3. , 4.4, 1.4],\n",
              "        [6.8, 2.8, 4.8, 1.4],\n",
              "        [6.7, 3. , 5. , 1.7],\n",
              "        [6. , 2.9, 4.5, 1.5],\n",
              "        [5.7, 2.6, 3.5, 1. ],\n",
              "        [5.5, 2.4, 3.8, 1.1],\n",
              "        [5.5, 2.4, 3.7, 1. ],\n",
              "        [5.8, 2.7, 3.9, 1.2],\n",
              "        [6. , 2.7, 5.1, 1.6],\n",
              "        [5.4, 3. , 4.5, 1.5],\n",
              "        [6. , 3.4, 4.5, 1.6],\n",
              "        [6.7, 3.1, 4.7, 1.5],\n",
              "        [6.3, 2.3, 4.4, 1.3],\n",
              "        [5.6, 3. , 4.1, 1.3],\n",
              "        [5.5, 2.5, 4. , 1.3],\n",
              "        [5.5, 2.6, 4.4, 1.2],\n",
              "        [6.1, 3. , 4.6, 1.4],\n",
              "        [5.8, 2.6, 4. , 1.2],\n",
              "        [5. , 2.3, 3.3, 1. ],\n",
              "        [5.6, 2.7, 4.2, 1.3],\n",
              "        [5.7, 3. , 4.2, 1.2],\n",
              "        [5.7, 2.9, 4.2, 1.3],\n",
              "        [6.2, 2.9, 4.3, 1.3],\n",
              "        [5.1, 2.5, 3. , 1.1],\n",
              "        [5.7, 2.8, 4.1, 1.3],\n",
              "        [6.3, 3.3, 6. , 2.5],\n",
              "        [5.8, 2.7, 5.1, 1.9],\n",
              "        [7.1, 3. , 5.9, 2.1],\n",
              "        [6.3, 2.9, 5.6, 1.8],\n",
              "        [6.5, 3. , 5.8, 2.2],\n",
              "        [7.6, 3. , 6.6, 2.1],\n",
              "        [4.9, 2.5, 4.5, 1.7],\n",
              "        [7.3, 2.9, 6.3, 1.8],\n",
              "        [6.7, 2.5, 5.8, 1.8],\n",
              "        [7.2, 3.6, 6.1, 2.5],\n",
              "        [6.5, 3.2, 5.1, 2. ],\n",
              "        [6.4, 2.7, 5.3, 1.9],\n",
              "        [6.8, 3. , 5.5, 2.1],\n",
              "        [5.7, 2.5, 5. , 2. ],\n",
              "        [5.8, 2.8, 5.1, 2.4],\n",
              "        [6.4, 3.2, 5.3, 2.3],\n",
              "        [6.5, 3. , 5.5, 1.8],\n",
              "        [7.7, 3.8, 6.7, 2.2],\n",
              "        [7.7, 2.6, 6.9, 2.3],\n",
              "        [6. , 2.2, 5. , 1.5],\n",
              "        [6.9, 3.2, 5.7, 2.3],\n",
              "        [5.6, 2.8, 4.9, 2. ],\n",
              "        [7.7, 2.8, 6.7, 2. ],\n",
              "        [6.3, 2.7, 4.9, 1.8],\n",
              "        [6.7, 3.3, 5.7, 2.1],\n",
              "        [7.2, 3.2, 6. , 1.8],\n",
              "        [6.2, 2.8, 4.8, 1.8],\n",
              "        [6.1, 3. , 4.9, 1.8],\n",
              "        [6.4, 2.8, 5.6, 2.1],\n",
              "        [7.2, 3. , 5.8, 1.6],\n",
              "        [7.4, 2.8, 6.1, 1.9],\n",
              "        [7.9, 3.8, 6.4, 2. ],\n",
              "        [6.4, 2.8, 5.6, 2.2],\n",
              "        [6.3, 2.8, 5.1, 1.5],\n",
              "        [6.1, 2.6, 5.6, 1.4],\n",
              "        [7.7, 3. , 6.1, 2.3],\n",
              "        [6.3, 3.4, 5.6, 2.4],\n",
              "        [6.4, 3.1, 5.5, 1.8],\n",
              "        [6. , 3. , 4.8, 1.8],\n",
              "        [6.9, 3.1, 5.4, 2.1],\n",
              "        [6.7, 3.1, 5.6, 2.4],\n",
              "        [6.9, 3.1, 5.1, 2.3],\n",
              "        [5.8, 2.7, 5.1, 1.9],\n",
              "        [6.8, 3.2, 5.9, 2.3],\n",
              "        [6.7, 3.3, 5.7, 2.5],\n",
              "        [6.7, 3. , 5.2, 2.3],\n",
              "        [6.3, 2.5, 5. , 1.9],\n",
              "        [6.5, 3. , 5.2, 2. ],\n",
              "        [6.2, 3.4, 5.4, 2.3],\n",
              "        [5.9, 3. , 5.1, 1.8]]),\n",
              " 'feature_names': ['sepal length (cm)',\n",
              "  'sepal width (cm)',\n",
              "  'petal length (cm)',\n",
              "  'petal width (cm)'],\n",
              " 'filename': '/usr/local/lib/python3.6/dist-packages/sklearn/datasets/data/iris.csv',\n",
              " 'target': array([0, 0, 0, 0, 0, 0, 0, 0, 0, 0, 0, 0, 0, 0, 0, 0, 0, 0, 0, 0, 0, 0,\n",
              "        0, 0, 0, 0, 0, 0, 0, 0, 0, 0, 0, 0, 0, 0, 0, 0, 0, 0, 0, 0, 0, 0,\n",
              "        0, 0, 0, 0, 0, 0, 1, 1, 1, 1, 1, 1, 1, 1, 1, 1, 1, 1, 1, 1, 1, 1,\n",
              "        1, 1, 1, 1, 1, 1, 1, 1, 1, 1, 1, 1, 1, 1, 1, 1, 1, 1, 1, 1, 1, 1,\n",
              "        1, 1, 1, 1, 1, 1, 1, 1, 1, 1, 1, 1, 2, 2, 2, 2, 2, 2, 2, 2, 2, 2,\n",
              "        2, 2, 2, 2, 2, 2, 2, 2, 2, 2, 2, 2, 2, 2, 2, 2, 2, 2, 2, 2, 2, 2,\n",
              "        2, 2, 2, 2, 2, 2, 2, 2, 2, 2, 2, 2, 2, 2, 2, 2, 2, 2]),\n",
              " 'target_names': array(['setosa', 'versicolor', 'virginica'], dtype='<U10')}"
            ]
          },
          "metadata": {
            "tags": []
          },
          "execution_count": 12
        }
      ]
    },
    {
      "cell_type": "code",
      "metadata": {
        "colab": {
          "base_uri": "https://localhost:8080/",
          "height": 199
        },
        "id": "KNjv9p68Li9e",
        "outputId": "39ace2fa-4e2b-4127-fb9b-74016066630d"
      },
      "source": [
        "path = 'https://raw.githubusercontent.com/blackdew/tensorflow1/master/csv/iris.csv'\r\n",
        "dataset = pd.read_csv(path)\r\n",
        "dataset.head()\r\n",
        "dataset.tail()"
      ],
      "execution_count": 13,
      "outputs": [
        {
          "output_type": "execute_result",
          "data": {
            "text/html": [
              "<div>\n",
              "<style scoped>\n",
              "    .dataframe tbody tr th:only-of-type {\n",
              "        vertical-align: middle;\n",
              "    }\n",
              "\n",
              "    .dataframe tbody tr th {\n",
              "        vertical-align: top;\n",
              "    }\n",
              "\n",
              "    .dataframe thead th {\n",
              "        text-align: right;\n",
              "    }\n",
              "</style>\n",
              "<table border=\"1\" class=\"dataframe\">\n",
              "  <thead>\n",
              "    <tr style=\"text-align: right;\">\n",
              "      <th></th>\n",
              "      <th>꽃잎길이</th>\n",
              "      <th>꽃잎폭</th>\n",
              "      <th>꽃받침길이</th>\n",
              "      <th>꽃받침폭</th>\n",
              "      <th>품종</th>\n",
              "    </tr>\n",
              "  </thead>\n",
              "  <tbody>\n",
              "    <tr>\n",
              "      <th>145</th>\n",
              "      <td>6.7</td>\n",
              "      <td>3.0</td>\n",
              "      <td>5.2</td>\n",
              "      <td>2.3</td>\n",
              "      <td>virginica</td>\n",
              "    </tr>\n",
              "    <tr>\n",
              "      <th>146</th>\n",
              "      <td>6.3</td>\n",
              "      <td>2.5</td>\n",
              "      <td>5.0</td>\n",
              "      <td>1.9</td>\n",
              "      <td>virginica</td>\n",
              "    </tr>\n",
              "    <tr>\n",
              "      <th>147</th>\n",
              "      <td>6.5</td>\n",
              "      <td>3.0</td>\n",
              "      <td>5.2</td>\n",
              "      <td>2.0</td>\n",
              "      <td>virginica</td>\n",
              "    </tr>\n",
              "    <tr>\n",
              "      <th>148</th>\n",
              "      <td>6.2</td>\n",
              "      <td>3.4</td>\n",
              "      <td>5.4</td>\n",
              "      <td>2.3</td>\n",
              "      <td>virginica</td>\n",
              "    </tr>\n",
              "    <tr>\n",
              "      <th>149</th>\n",
              "      <td>5.9</td>\n",
              "      <td>3.0</td>\n",
              "      <td>5.1</td>\n",
              "      <td>1.8</td>\n",
              "      <td>virginica</td>\n",
              "    </tr>\n",
              "  </tbody>\n",
              "</table>\n",
              "</div>"
            ],
            "text/plain": [
              "     꽃잎길이  꽃잎폭  꽃받침길이  꽃받침폭         품종\n",
              "145   6.7  3.0    5.2   2.3  virginica\n",
              "146   6.3  2.5    5.0   1.9  virginica\n",
              "147   6.5  3.0    5.2   2.0  virginica\n",
              "148   6.2  3.4    5.4   2.3  virginica\n",
              "149   5.9  3.0    5.1   1.8  virginica"
            ]
          },
          "metadata": {
            "tags": []
          },
          "execution_count": 13
        }
      ]
    },
    {
      "cell_type": "code",
      "metadata": {
        "colab": {
          "base_uri": "https://localhost:8080/",
          "height": 216
        },
        "id": "K4PQyqUSMOm5",
        "outputId": "48b4e2fc-86ec-4b53-fe21-60526e0ed0a1"
      },
      "source": [
        "encoded = pd.get_dummies(dataset)\r\n",
        "encoded.head()"
      ],
      "execution_count": 14,
      "outputs": [
        {
          "output_type": "execute_result",
          "data": {
            "text/html": [
              "<div>\n",
              "<style scoped>\n",
              "    .dataframe tbody tr th:only-of-type {\n",
              "        vertical-align: middle;\n",
              "    }\n",
              "\n",
              "    .dataframe tbody tr th {\n",
              "        vertical-align: top;\n",
              "    }\n",
              "\n",
              "    .dataframe thead th {\n",
              "        text-align: right;\n",
              "    }\n",
              "</style>\n",
              "<table border=\"1\" class=\"dataframe\">\n",
              "  <thead>\n",
              "    <tr style=\"text-align: right;\">\n",
              "      <th></th>\n",
              "      <th>꽃잎길이</th>\n",
              "      <th>꽃잎폭</th>\n",
              "      <th>꽃받침길이</th>\n",
              "      <th>꽃받침폭</th>\n",
              "      <th>품종_setosa</th>\n",
              "      <th>품종_versicolor</th>\n",
              "      <th>품종_virginica</th>\n",
              "    </tr>\n",
              "  </thead>\n",
              "  <tbody>\n",
              "    <tr>\n",
              "      <th>0</th>\n",
              "      <td>5.1</td>\n",
              "      <td>3.5</td>\n",
              "      <td>1.4</td>\n",
              "      <td>0.2</td>\n",
              "      <td>1</td>\n",
              "      <td>0</td>\n",
              "      <td>0</td>\n",
              "    </tr>\n",
              "    <tr>\n",
              "      <th>1</th>\n",
              "      <td>4.9</td>\n",
              "      <td>3.0</td>\n",
              "      <td>1.4</td>\n",
              "      <td>0.2</td>\n",
              "      <td>1</td>\n",
              "      <td>0</td>\n",
              "      <td>0</td>\n",
              "    </tr>\n",
              "    <tr>\n",
              "      <th>2</th>\n",
              "      <td>4.7</td>\n",
              "      <td>3.2</td>\n",
              "      <td>1.3</td>\n",
              "      <td>0.2</td>\n",
              "      <td>1</td>\n",
              "      <td>0</td>\n",
              "      <td>0</td>\n",
              "    </tr>\n",
              "    <tr>\n",
              "      <th>3</th>\n",
              "      <td>4.6</td>\n",
              "      <td>3.1</td>\n",
              "      <td>1.5</td>\n",
              "      <td>0.2</td>\n",
              "      <td>1</td>\n",
              "      <td>0</td>\n",
              "      <td>0</td>\n",
              "    </tr>\n",
              "    <tr>\n",
              "      <th>4</th>\n",
              "      <td>5.0</td>\n",
              "      <td>3.6</td>\n",
              "      <td>1.4</td>\n",
              "      <td>0.2</td>\n",
              "      <td>1</td>\n",
              "      <td>0</td>\n",
              "      <td>0</td>\n",
              "    </tr>\n",
              "  </tbody>\n",
              "</table>\n",
              "</div>"
            ],
            "text/plain": [
              "   꽃잎길이  꽃잎폭  꽃받침길이  꽃받침폭  품종_setosa  품종_versicolor  품종_virginica\n",
              "0   5.1  3.5    1.4   0.2          1              0             0\n",
              "1   4.9  3.0    1.4   0.2          1              0             0\n",
              "2   4.7  3.2    1.3   0.2          1              0             0\n",
              "3   4.6  3.1    1.5   0.2          1              0             0\n",
              "4   5.0  3.6    1.4   0.2          1              0             0"
            ]
          },
          "metadata": {
            "tags": []
          },
          "execution_count": 14
        }
      ]
    },
    {
      "cell_type": "code",
      "metadata": {
        "colab": {
          "base_uri": "https://localhost:8080/"
        },
        "id": "uoYGMDluOyiF",
        "outputId": "38a704c6-8ca4-439d-b64a-5f7be9e2e2e5"
      },
      "source": [
        "print(encoded.columns)\r\n",
        "\r\n",
        "독립 = encoded[['꽃잎길이', '꽃잎폭', '꽃받침길이', '꽃받침폭']]\r\n",
        "종속 = encoded[['품종_setosa', '품종_versicolor', '품종_virginica']]\r\n",
        "\r\n",
        "독립.shape, 종속.shape"
      ],
      "execution_count": 18,
      "outputs": [
        {
          "output_type": "stream",
          "text": [
            "Index(['꽃잎길이', '꽃잎폭', '꽃받침길이', '꽃받침폭', '품종_setosa', '품종_versicolor',\n",
            "       '품종_virginica'],\n",
            "      dtype='object')\n"
          ],
          "name": "stdout"
        },
        {
          "output_type": "execute_result",
          "data": {
            "text/plain": [
              "((150, 4), (150, 3))"
            ]
          },
          "metadata": {
            "tags": []
          },
          "execution_count": 18
        }
      ]
    },
    {
      "cell_type": "code",
      "metadata": {
        "id": "MQ2mn6qeQiw6"
      },
      "source": [
        "## 모델 준비\r\n",
        "X = tf.keras.layers.Input(shape=[4]) # 독립변수의 col\r\n",
        "Y = tf.keras.layers.Dense(3, activation='softmax')(X) # 종속변수의 col\r\n",
        "model = tf.keras.models.Model(X, Y)\r\n",
        "model.compile(loss='categorical_crossentropy', metrics='accuracy')"
      ],
      "execution_count": 20,
      "outputs": []
    },
    {
      "cell_type": "code",
      "metadata": {
        "colab": {
          "base_uri": "https://localhost:8080/"
        },
        "id": "6cOfyCR1RTs_",
        "outputId": "fe0b3fd7-635d-47d3-a52e-2891d84f7581"
      },
      "source": [
        "#모델 학습\r\n",
        "model.fit(독립, 종속, epochs = 10000, verbose=0)\r\n",
        "model.fit(독립, 종속, epochs = 10)"
      ],
      "execution_count": 21,
      "outputs": [
        {
          "output_type": "stream",
          "text": [
            "Epoch 1/10\n",
            "5/5 [==============================] - 0s 2ms/step - loss: 0.0539 - accuracy: 0.9800\n",
            "Epoch 2/10\n",
            "5/5 [==============================] - 0s 3ms/step - loss: 0.0539 - accuracy: 0.9800\n",
            "Epoch 3/10\n",
            "5/5 [==============================] - 0s 2ms/step - loss: 0.0539 - accuracy: 0.9800\n",
            "Epoch 4/10\n",
            "5/5 [==============================] - 0s 2ms/step - loss: 0.0540 - accuracy: 0.9800\n",
            "Epoch 5/10\n",
            "5/5 [==============================] - 0s 2ms/step - loss: 0.0536 - accuracy: 0.9800\n",
            "Epoch 6/10\n",
            "5/5 [==============================] - 0s 1ms/step - loss: 0.0536 - accuracy: 0.9800\n",
            "Epoch 7/10\n",
            "5/5 [==============================] - 0s 3ms/step - loss: 0.0536 - accuracy: 0.9800\n",
            "Epoch 8/10\n",
            "5/5 [==============================] - 0s 1ms/step - loss: 0.0539 - accuracy: 0.9800\n",
            "Epoch 9/10\n",
            "5/5 [==============================] - 0s 2ms/step - loss: 0.0542 - accuracy: 0.9800\n",
            "Epoch 10/10\n",
            "5/5 [==============================] - 0s 2ms/step - loss: 0.0540 - accuracy: 0.9800\n"
          ],
          "name": "stdout"
        },
        {
          "output_type": "execute_result",
          "data": {
            "text/plain": [
              "<tensorflow.python.keras.callbacks.History at 0x7f2b83ac31d0>"
            ]
          },
          "metadata": {
            "tags": []
          },
          "execution_count": 21
        }
      ]
    },
    {
      "cell_type": "code",
      "metadata": {
        "colab": {
          "base_uri": "https://localhost:8080/"
        },
        "id": "e1X9nT1QSB6_",
        "outputId": "5c42ea21-9fd5-47fb-cabd-ef1826615b5f"
      },
      "source": [
        "model.predict(독립)"
      ],
      "execution_count": 23,
      "outputs": [
        {
          "output_type": "execute_result",
          "data": {
            "text/plain": [
              "array([[1.00000000e+00, 2.57876255e-11, 2.12938250e-24],\n",
              "       [1.00000000e+00, 2.61796629e-09, 2.84739033e-21],\n",
              "       [1.00000000e+00, 2.65611005e-10, 1.29325276e-22],\n",
              "       [1.00000000e+00, 6.93937174e-09, 1.70666893e-20],\n",
              "       [1.00000000e+00, 1.42287362e-11, 9.97633240e-25],\n",
              "       [1.00000000e+00, 1.67136097e-10, 3.31701748e-23],\n",
              "       [1.00000000e+00, 7.02970349e-10, 7.84014952e-22],\n",
              "       [1.00000000e+00, 2.24522595e-10, 5.81466660e-23],\n",
              "       [1.00000000e+00, 1.94688923e-08, 1.12747199e-19],\n",
              "       [1.00000000e+00, 9.34558542e-10, 4.26137966e-22],\n",
              "       [1.00000000e+00, 7.26438918e-12, 1.98107255e-25],\n",
              "       [1.00000000e+00, 1.07859988e-09, 7.43889169e-22],\n",
              "       [1.00000000e+00, 9.03661923e-10, 4.98230462e-22],\n",
              "       [1.00000000e+00, 1.08461920e-10, 5.03301935e-23],\n",
              "       [1.00000000e+00, 8.69890047e-15, 5.97987067e-30],\n",
              "       [1.00000000e+00, 1.44503658e-13, 6.52784518e-28],\n",
              "       [1.00000000e+00, 2.06144954e-12, 6.08096079e-26],\n",
              "       [1.00000000e+00, 9.45274969e-11, 1.98000174e-23],\n",
              "       [1.00000000e+00, 5.16169052e-11, 2.87626101e-24],\n",
              "       [1.00000000e+00, 2.35221252e-11, 2.28464216e-24],\n",
              "       [1.00000000e+00, 7.88772936e-10, 1.93788036e-22],\n",
              "       [1.00000000e+00, 1.97724462e-10, 7.37753573e-23],\n",
              "       [1.00000000e+00, 4.49805069e-13, 1.28167926e-26],\n",
              "       [9.99999762e-01, 1.80465648e-07, 2.33040250e-18],\n",
              "       [1.00000000e+00, 2.91430506e-08, 8.39635368e-20],\n",
              "       [1.00000000e+00, 1.86305016e-08, 4.08732914e-20],\n",
              "       [1.00000000e+00, 9.05270170e-09, 2.42962915e-20],\n",
              "       [1.00000000e+00, 6.11571557e-11, 6.32489386e-24],\n",
              "       [1.00000000e+00, 4.67367048e-11, 4.54504419e-24],\n",
              "       [1.00000000e+00, 7.17661841e-09, 1.45970769e-20],\n",
              "       [1.00000000e+00, 1.30067077e-08, 3.11566205e-20],\n",
              "       [1.00000000e+00, 1.17705168e-09, 7.17399851e-22],\n",
              "       [1.00000000e+00, 1.14734258e-13, 3.87757731e-28],\n",
              "       [1.00000000e+00, 3.01725604e-14, 4.98778300e-29],\n",
              "       [1.00000000e+00, 9.34558542e-10, 4.26137966e-22],\n",
              "       [1.00000000e+00, 4.36973790e-11, 6.21300262e-24],\n",
              "       [1.00000000e+00, 3.35297523e-12, 6.28745622e-26],\n",
              "       [1.00000000e+00, 9.34558542e-10, 4.26137966e-22],\n",
              "       [1.00000000e+00, 2.82933632e-09, 6.71789322e-21],\n",
              "       [1.00000000e+00, 1.77447418e-10, 3.57376804e-23],\n",
              "       [1.00000000e+00, 3.98587691e-11, 6.66606161e-24],\n",
              "       [9.99997258e-01, 2.73327828e-06, 2.33888640e-16],\n",
              "       [1.00000000e+00, 5.38038003e-10, 5.57021880e-22],\n",
              "       [1.00000000e+00, 5.30440154e-08, 6.04900845e-19],\n",
              "       [1.00000000e+00, 6.99074398e-09, 1.15879684e-20],\n",
              "       [1.00000000e+00, 1.21422143e-08, 4.30778538e-20],\n",
              "       [1.00000000e+00, 1.92555555e-11, 1.18741542e-24],\n",
              "       [1.00000000e+00, 1.00846154e-09, 1.01688841e-21],\n",
              "       [1.00000000e+00, 9.19152948e-12, 3.22326150e-25],\n",
              "       [1.00000000e+00, 1.71581332e-10, 4.17841320e-23],\n",
              "       [8.51543055e-12, 9.98843074e-01, 1.15694129e-03],\n",
              "       [5.07759243e-12, 9.94904757e-01, 5.09522622e-03],\n",
              "       [8.77178240e-14, 9.85375822e-01, 1.46242091e-02],\n",
              "       [1.11176910e-12, 9.71264780e-01, 2.87352670e-02],\n",
              "       [7.52819099e-14, 9.67362642e-01, 3.26373912e-02],\n",
              "       [4.66297790e-13, 9.76240277e-01, 2.37597022e-02],\n",
              "       [2.72441846e-13, 9.72183943e-01, 2.78160814e-02],\n",
              "       [6.90090047e-08, 9.99807417e-01, 1.92490683e-04],\n",
              "       [3.02587642e-12, 9.97314751e-01, 2.68519484e-03],\n",
              "       [1.25551358e-11, 9.81511295e-01, 1.84887517e-02],\n",
              "       [3.50028617e-10, 9.97961402e-01, 2.03854940e-03],\n",
              "       [8.00688682e-12, 9.90211189e-01, 9.78875067e-03],\n",
              "       [7.96689104e-11, 9.99219894e-01, 7.80107279e-04],\n",
              "       [8.18889024e-14, 9.62766409e-01, 3.72335650e-02],\n",
              "       [1.70706791e-08, 9.99716580e-01, 2.83397676e-04],\n",
              "       [4.95437753e-11, 9.99107897e-01, 8.92040785e-04],\n",
              "       [1.35813087e-13, 9.19280589e-01, 8.07194412e-02],\n",
              "       [1.05216669e-09, 9.99739110e-01, 2.60937435e-04],\n",
              "       [5.15677523e-16, 6.50473893e-01, 3.49526137e-01],\n",
              "       [3.06784625e-10, 9.99032974e-01, 9.67076805e-04],\n",
              "       [5.30816649e-16, 4.48877543e-01, 5.51122427e-01],\n",
              "       [2.97597030e-10, 9.99179184e-01, 8.20826855e-04],\n",
              "       [8.24518216e-17, 5.52656770e-01, 4.47343230e-01],\n",
              "       [4.93883851e-13, 9.90980208e-01, 9.01976321e-03],\n",
              "       [5.11505491e-11, 9.98935401e-01, 1.06460205e-03],\n",
              "       [1.70608198e-11, 9.98264372e-01, 1.73568225e-03],\n",
              "       [6.31501348e-14, 9.84034181e-01, 1.59657728e-02],\n",
              "       [4.34170269e-16, 7.21943796e-01, 2.78056204e-01],\n",
              "       [1.57467572e-13, 9.53620851e-01, 4.63791117e-02],\n",
              "       [2.64794295e-07, 9.99970675e-01, 2.91254837e-05],\n",
              "       [3.17209536e-10, 9.98830855e-01, 1.16910983e-03],\n",
              "       [3.49221718e-09, 9.99713600e-01, 2.86421244e-04],\n",
              "       [7.04810432e-10, 9.99352872e-01, 6.47082401e-04],\n",
              "       [1.97622858e-18, 1.68417081e-01, 8.31582963e-01],\n",
              "       [8.05819306e-14, 8.73215735e-01, 1.26784220e-01],\n",
              "       [2.81299138e-12, 9.84748542e-01, 1.52514065e-02],\n",
              "       [4.95984601e-13, 9.90627527e-01, 9.37250443e-03],\n",
              "       [9.03394994e-14, 9.74065006e-01, 2.59350277e-02],\n",
              "       [1.60621863e-10, 9.97975886e-01, 2.02414813e-03],\n",
              "       [5.94266433e-12, 9.87264395e-01, 1.27356229e-02],\n",
              "       [6.10274093e-13, 9.77907062e-01, 2.20929142e-02],\n",
              "       [5.76139613e-13, 9.84391332e-01, 1.56086851e-02],\n",
              "       [1.02331227e-10, 9.98423219e-01, 1.57677650e-03],\n",
              "       [3.80753811e-08, 9.99773324e-01, 2.26690798e-04],\n",
              "       [4.39801537e-12, 9.88781631e-01, 1.12183103e-02],\n",
              "       [2.48519677e-10, 9.98999536e-01, 1.00042764e-03],\n",
              "       [2.94814659e-11, 9.96167600e-01, 3.83232301e-03],\n",
              "       [3.19278770e-11, 9.98240829e-01, 1.75913784e-03],\n",
              "       [1.86770058e-06, 9.99951363e-01, 4.66841011e-05],\n",
              "       [3.85865541e-11, 9.96395528e-01, 3.60443862e-03],\n",
              "       [2.40294999e-29, 1.63854711e-05, 9.99983668e-01],\n",
              "       [1.10831267e-21, 7.44777406e-03, 9.92552280e-01],\n",
              "       [1.01554640e-24, 2.34636269e-03, 9.97653663e-01],\n",
              "       [5.34047978e-22, 1.39671331e-02, 9.86032903e-01],\n",
              "       [2.85089832e-26, 3.30166571e-04, 9.99669790e-01],\n",
              "       [1.88458167e-28, 2.94127880e-04, 9.99705851e-01],\n",
              "       [1.22936337e-18, 3.68108824e-02, 9.63189185e-01],\n",
              "       [1.13655421e-24, 6.19158475e-03, 9.93808448e-01],\n",
              "       [1.11411654e-24, 2.83068791e-03, 9.97169316e-01],\n",
              "       [1.66346960e-26, 3.39585415e-04, 9.99660373e-01],\n",
              "       [1.61032420e-18, 1.20483831e-01, 8.79516184e-01],\n",
              "       [8.75488485e-22, 1.29101994e-02, 9.87089813e-01],\n",
              "       [1.27964195e-22, 7.38672866e-03, 9.92613316e-01],\n",
              "       [2.95279346e-23, 1.61279179e-03, 9.98387218e-01],\n",
              "       [5.57806689e-26, 1.08180073e-04, 9.99891758e-01],\n",
              "       [5.97807187e-23, 2.50988011e-03, 9.97490168e-01],\n",
              "       [2.27627374e-20, 5.40402867e-02, 9.45959687e-01],\n",
              "       [1.44034008e-25, 2.55557080e-03, 9.97444391e-01],\n",
              "       [2.16077122e-34, 2.67578162e-06, 9.99997377e-01],\n",
              "       [1.91522943e-19, 9.40957442e-02, 9.05904233e-01],\n",
              "       [1.25108113e-24, 1.31320162e-03, 9.98686850e-01],\n",
              "       [3.65367211e-21, 6.97809132e-03, 9.93021905e-01],\n",
              "       [4.89194271e-29, 2.59753666e-04, 9.99740183e-01],\n",
              "       [2.35597954e-18, 1.47909999e-01, 8.52090001e-01],\n",
              "       [1.40997590e-22, 7.68969953e-03, 9.92310286e-01],\n",
              "       [3.10464896e-21, 6.56800568e-02, 9.34319913e-01],\n",
              "       [2.14564100e-17, 2.47692928e-01, 7.52307057e-01],\n",
              "       [3.20572391e-17, 2.67192423e-01, 7.32807577e-01],\n",
              "       [3.15391915e-25, 7.36316608e-04, 9.99263704e-01],\n",
              "       [3.68072056e-19, 3.38441104e-01, 6.61558926e-01],\n",
              "       [1.33856472e-24, 5.38013875e-03, 9.94619846e-01],\n",
              "       [3.34913354e-21, 1.02238074e-01, 8.97761881e-01],\n",
              "       [3.39337948e-26, 2.90397176e-04, 9.99709547e-01],\n",
              "       [1.24526562e-16, 6.23251796e-01, 3.76748174e-01],\n",
              "       [3.31336177e-20, 9.26603526e-02, 9.07339633e-01],\n",
              "       [9.34564978e-27, 6.36668003e-04, 9.99363363e-01],\n",
              "       [4.23096968e-25, 4.23322228e-04, 9.99576628e-01],\n",
              "       [4.81237783e-20, 6.30383939e-02, 9.36961591e-01],\n",
              "       [8.92013904e-17, 3.13499540e-01, 6.86500549e-01],\n",
              "       [3.44000991e-21, 2.28073113e-02, 9.77192700e-01],\n",
              "       [7.07977271e-26, 3.33274016e-04, 9.99666691e-01],\n",
              "       [4.52696481e-21, 1.49259744e-02, 9.85074043e-01],\n",
              "       [1.10831267e-21, 7.44777406e-03, 9.92552280e-01],\n",
              "       [3.29534102e-26, 3.94079805e-04, 9.99605954e-01],\n",
              "       [1.90037239e-26, 1.87120546e-04, 9.99812901e-01],\n",
              "       [1.03049291e-22, 3.74296261e-03, 9.96257067e-01],\n",
              "       [5.00898493e-21, 1.81892607e-02, 9.81810808e-01],\n",
              "       [3.02900648e-20, 3.57609950e-02, 9.64238942e-01],\n",
              "       [5.63750106e-23, 2.16227584e-03, 9.97837722e-01],\n",
              "       [6.52106388e-19, 7.83513710e-02, 9.21648622e-01]], dtype=float32)"
            ]
          },
          "metadata": {
            "tags": []
          },
          "execution_count": 23
        }
      ]
    },
    {
      "cell_type": "code",
      "metadata": {
        "colab": {
          "base_uri": "https://localhost:8080/"
        },
        "id": "Bi3S7HnHRvFX",
        "outputId": "48fe584c-332f-4e26-ae97-ab529f0356c3"
      },
      "source": [
        "model.predict([[5.1, 3.5, 1.4, 0.2]])"
      ],
      "execution_count": 25,
      "outputs": [
        {
          "output_type": "execute_result",
          "data": {
            "text/plain": [
              "array([[1.0000000e+00, 2.5787626e-11, 2.1293823e-24]], dtype=float32)"
            ]
          },
          "metadata": {
            "tags": []
          },
          "execution_count": 25
        }
      ]
    },
    {
      "cell_type": "code",
      "metadata": {
        "colab": {
          "base_uri": "https://localhost:8080/"
        },
        "id": "mqJUHggqR-_q",
        "outputId": "b023ffcc-c48d-4605-c37f-fca929410d93"
      },
      "source": [
        "model.get_weights()"
      ],
      "execution_count": 26,
      "outputs": [
        {
          "output_type": "execute_result",
          "data": {
            "text/plain": [
              "[array([[  4.2172365,   1.8642482,  -0.650338 ],\n",
              "        [ 10.120681 ,   1.8213624,  -2.3289404],\n",
              "        [-12.575324 ,  -1.5868224,   3.1788273],\n",
              "        [-17.023052 ,  -4.033099 ,   5.2754383]], dtype=float32),\n",
              " array([ 6.7204065,  5.405242 , -5.90301  ], dtype=float32)]"
            ]
          },
          "metadata": {
            "tags": []
          },
          "execution_count": 26
        }
      ]
    },
    {
      "cell_type": "markdown",
      "metadata": {
        "id": "pcfU9yMyTEbL"
      },
      "source": [
        "## 히든레이어"
      ]
    },
    {
      "cell_type": "code",
      "metadata": {
        "colab": {
          "base_uri": "https://localhost:8080/",
          "height": 199
        },
        "id": "0NpD4wgrSfxW",
        "outputId": "c888541a-c5a9-46c2-a357-46f2578d17a0"
      },
      "source": [
        "data = {\r\n",
        "    '창업연차' : [4, 5, 6, 7, 8],\r\n",
        "    '직원수' : [10, 20, 30, 40, 50],\r\n",
        "    '기업가치' : [80, 200, 360, 540, 800]\r\n",
        "}\r\n",
        "\r\n",
        "df = pd.DataFrame(data)\r\n",
        "df"
      ],
      "execution_count": 32,
      "outputs": [
        {
          "output_type": "execute_result",
          "data": {
            "text/html": [
              "<div>\n",
              "<style scoped>\n",
              "    .dataframe tbody tr th:only-of-type {\n",
              "        vertical-align: middle;\n",
              "    }\n",
              "\n",
              "    .dataframe tbody tr th {\n",
              "        vertical-align: top;\n",
              "    }\n",
              "\n",
              "    .dataframe thead th {\n",
              "        text-align: right;\n",
              "    }\n",
              "</style>\n",
              "<table border=\"1\" class=\"dataframe\">\n",
              "  <thead>\n",
              "    <tr style=\"text-align: right;\">\n",
              "      <th></th>\n",
              "      <th>창업연차</th>\n",
              "      <th>직원수</th>\n",
              "      <th>기업가치</th>\n",
              "    </tr>\n",
              "  </thead>\n",
              "  <tbody>\n",
              "    <tr>\n",
              "      <th>0</th>\n",
              "      <td>4</td>\n",
              "      <td>10</td>\n",
              "      <td>80</td>\n",
              "    </tr>\n",
              "    <tr>\n",
              "      <th>1</th>\n",
              "      <td>5</td>\n",
              "      <td>20</td>\n",
              "      <td>200</td>\n",
              "    </tr>\n",
              "    <tr>\n",
              "      <th>2</th>\n",
              "      <td>6</td>\n",
              "      <td>30</td>\n",
              "      <td>360</td>\n",
              "    </tr>\n",
              "    <tr>\n",
              "      <th>3</th>\n",
              "      <td>7</td>\n",
              "      <td>40</td>\n",
              "      <td>540</td>\n",
              "    </tr>\n",
              "    <tr>\n",
              "      <th>4</th>\n",
              "      <td>8</td>\n",
              "      <td>50</td>\n",
              "      <td>800</td>\n",
              "    </tr>\n",
              "  </tbody>\n",
              "</table>\n",
              "</div>"
            ],
            "text/plain": [
              "   창업연차  직원수  기업가치\n",
              "0     4   10    80\n",
              "1     5   20   200\n",
              "2     6   30   360\n",
              "3     7   40   540\n",
              "4     8   50   800"
            ]
          },
          "metadata": {
            "tags": []
          },
          "execution_count": 32
        }
      ]
    },
    {
      "cell_type": "code",
      "metadata": {
        "colab": {
          "base_uri": "https://localhost:8080/"
        },
        "id": "POK1AD64TPa2",
        "outputId": "1847139a-6f23-43d9-b4c9-8694104fb91a"
      },
      "source": [
        "9 * 60 * 2\r\n",
        "8 * 50 * 2"
      ],
      "execution_count": 34,
      "outputs": [
        {
          "output_type": "execute_result",
          "data": {
            "text/plain": [
              "800"
            ]
          },
          "metadata": {
            "tags": []
          },
          "execution_count": 34
        }
      ]
    },
    {
      "cell_type": "code",
      "metadata": {
        "colab": {
          "base_uri": "https://localhost:8080/"
        },
        "id": "2QZCfuAETqTw",
        "outputId": "08f4fd3c-d5cf-4889-eb4d-74f89f9ba848"
      },
      "source": [
        "독립 = df[['창업연차','직원수']]\r\n",
        "종속 = df[['기업가치']]\r\n",
        "\r\n",
        "독립.shape, 종속.shape"
      ],
      "execution_count": 43,
      "outputs": [
        {
          "output_type": "execute_result",
          "data": {
            "text/plain": [
              "((5, 2), (5, 1))"
            ]
          },
          "metadata": {
            "tags": []
          },
          "execution_count": 43
        }
      ]
    },
    {
      "cell_type": "code",
      "metadata": {
        "id": "202TpF4cT-ik"
      },
      "source": [
        "## 모델 준비\r\n",
        "X = tf.keras.layers.Input(shape=[2]) # 독립변수의 col\r\n",
        "Y = tf.keras.layers.Dense(1)(X) # 종속변수의 col\r\n",
        "model = tf.keras.models.Model(X, Y)\r\n",
        "model.compile(loss='mse')"
      ],
      "execution_count": 46,
      "outputs": []
    },
    {
      "cell_type": "code",
      "metadata": {
        "colab": {
          "base_uri": "https://localhost:8080/"
        },
        "id": "-W3Cr6rcUWvk",
        "outputId": "df78c5f7-de82-46b1-e48a-668dc4df5e01"
      },
      "source": [
        "## 모델 학습\r\n",
        "model.fit(독립, 종속, epochs=100000, verbose=0) # epochs는 학습 수\r\n",
        "model.fit(독립, 종속, epochs=10) # epochs는 학습 수"
      ],
      "execution_count": 49,
      "outputs": [
        {
          "output_type": "stream",
          "text": [
            "Epoch 1/10\n",
            "1/1 [==============================] - 0s 3ms/step - loss: 1336.0010\n",
            "Epoch 2/10\n",
            "1/1 [==============================] - 0s 5ms/step - loss: 1335.9996\n",
            "Epoch 3/10\n",
            "1/1 [==============================] - 0s 4ms/step - loss: 1336.0010\n",
            "Epoch 4/10\n",
            "1/1 [==============================] - 0s 3ms/step - loss: 1335.9996\n",
            "Epoch 5/10\n",
            "1/1 [==============================] - 0s 3ms/step - loss: 1336.0010\n",
            "Epoch 6/10\n",
            "1/1 [==============================] - 0s 5ms/step - loss: 1335.9996\n",
            "Epoch 7/10\n",
            "1/1 [==============================] - 0s 3ms/step - loss: 1336.0010\n",
            "Epoch 8/10\n",
            "1/1 [==============================] - 0s 3ms/step - loss: 1335.9996\n",
            "Epoch 9/10\n",
            "1/1 [==============================] - 0s 5ms/step - loss: 1336.0010\n",
            "Epoch 10/10\n",
            "1/1 [==============================] - 0s 4ms/step - loss: 1335.9996\n"
          ],
          "name": "stdout"
        },
        {
          "output_type": "execute_result",
          "data": {
            "text/plain": [
              "<tensorflow.python.keras.callbacks.History at 0x7f2b81a938d0>"
            ]
          },
          "metadata": {
            "tags": []
          },
          "execution_count": 49
        }
      ]
    },
    {
      "cell_type": "code",
      "metadata": {
        "colab": {
          "base_uri": "https://localhost:8080/"
        },
        "id": "YULURLhaYIGz",
        "outputId": "05e94474-55cd-4d9b-e32a-6099ba6f12eb"
      },
      "source": [
        "model.predict(독립)"
      ],
      "execution_count": 52,
      "outputs": [
        {
          "output_type": "execute_result",
          "data": {
            "text/plain": [
              "array([[ 40.007565],\n",
              "       [218.01303 ],\n",
              "       [396.01852 ],\n",
              "       [574.02405 ],\n",
              "       [752.0295  ]], dtype=float32)"
            ]
          },
          "metadata": {
            "tags": []
          },
          "execution_count": 52
        }
      ]
    },
    {
      "cell_type": "code",
      "metadata": {
        "id": "M9hnvfnMZ7Cy"
      },
      "source": [
        "## 모델 준비\r\n",
        "X = tf.keras.layers.Input(shape=[2]) # 독립변수의 col\r\n",
        "H = tf.keras.layers.Dense(10, activation='swish')(X)\r\n",
        "H = tf.keras.layers.Dense(10, activation='swish')(H)\r\n",
        "H = tf.keras.layers.Dense(10, activation='swish')(H)\r\n",
        "Y = tf.keras.layers.Dense(1)(H) # 종속변수의 col\r\n",
        "model = tf.keras.models.Model(X, Y)\r\n",
        "model.compile(loss='mse')"
      ],
      "execution_count": 53,
      "outputs": []
    },
    {
      "cell_type": "code",
      "metadata": {
        "colab": {
          "base_uri": "https://localhost:8080/"
        },
        "id": "DfUOwaN5Z9fh",
        "outputId": "fe904b74-48fa-4052-db78-7f39ef0718f2"
      },
      "source": [
        "## 모델 학습\r\n",
        "model.fit(독립, 종속, epochs=100000, verbose=0) # epochs는 학습 수\r\n",
        "model.fit(독립, 종속, epochs=10) # epochs는 학습 수"
      ],
      "execution_count": 54,
      "outputs": [
        {
          "output_type": "stream",
          "text": [
            "Epoch 1/10\n",
            "1/1 [==============================] - 0s 5ms/step - loss: 2.2000\n",
            "Epoch 2/10\n",
            "1/1 [==============================] - 0s 7ms/step - loss: 2.0021\n",
            "Epoch 3/10\n",
            "1/1 [==============================] - 0s 4ms/step - loss: 2.4544\n",
            "Epoch 4/10\n",
            "1/1 [==============================] - 0s 4ms/step - loss: 3.1338\n",
            "Epoch 5/10\n",
            "1/1 [==============================] - 0s 4ms/step - loss: 5.1603\n",
            "Epoch 6/10\n",
            "1/1 [==============================] - 0s 4ms/step - loss: 8.0333\n",
            "Epoch 7/10\n",
            "1/1 [==============================] - 0s 4ms/step - loss: 15.0484\n",
            "Epoch 8/10\n",
            "1/1 [==============================] - 0s 3ms/step - loss: 19.1874\n",
            "Epoch 9/10\n",
            "1/1 [==============================] - 0s 5ms/step - loss: 27.3369\n",
            "Epoch 10/10\n",
            "1/1 [==============================] - 0s 4ms/step - loss: 15.0672\n"
          ],
          "name": "stdout"
        },
        {
          "output_type": "execute_result",
          "data": {
            "text/plain": [
              "<tensorflow.python.keras.callbacks.History at 0x7f2b80948748>"
            ]
          },
          "metadata": {
            "tags": []
          },
          "execution_count": 54
        }
      ]
    },
    {
      "cell_type": "code",
      "metadata": {
        "colab": {
          "base_uri": "https://localhost:8080/"
        },
        "id": "AbFOWeyPa4g8",
        "outputId": "03cbf651-8e04-4e0e-f0c7-5add4f058a05"
      },
      "source": [
        "model.predict(독립)"
      ],
      "execution_count": 55,
      "outputs": [
        {
          "output_type": "execute_result",
          "data": {
            "text/plain": [
              "array([[ 81.591286],\n",
              "       [202.05536 ],\n",
              "       [363.19235 ],\n",
              "       [544.7741  ],\n",
              "       [805.10394 ]], dtype=float32)"
            ]
          },
          "metadata": {
            "tags": []
          },
          "execution_count": 55
        }
      ]
    },
    {
      "cell_type": "code",
      "metadata": {
        "colab": {
          "base_uri": "https://localhost:8080/"
        },
        "id": "fGbCdFDNbdPZ",
        "outputId": "7bd6532f-a6aa-404a-bb7a-06f44e334fa1"
      },
      "source": [
        "model.predict([[9, 60]])"
      ],
      "execution_count": 56,
      "outputs": [
        {
          "output_type": "execute_result",
          "data": {
            "text/plain": [
              "array([[-451.9619]], dtype=float32)"
            ]
          },
          "metadata": {
            "tags": []
          },
          "execution_count": 56
        }
      ]
    },
    {
      "cell_type": "code",
      "metadata": {
        "colab": {
          "base_uri": "https://localhost:8080/"
        },
        "id": "e5OTmQC_btAO",
        "outputId": "32d234a5-b0c5-4667-d781-a1689c61edd5"
      },
      "source": [
        "model.get_weights()"
      ],
      "execution_count": 57,
      "outputs": [
        {
          "output_type": "execute_result",
          "data": {
            "text/plain": [
              "[array([[-1.0340841 ,  0.42149827,  0.09148783, -1.13482   ,  1.2280333 ,\n",
              "          0.67490256,  1.4455007 ,  0.9984629 , -1.2092096 ,  0.6543092 ],\n",
              "        [ 0.34429187,  0.2625027 , -0.2101023 ,  0.18514164,  0.24328892,\n",
              "         -0.13000163, -0.14183974,  0.04610476,  0.24022   , -0.13810618]],\n",
              "       dtype=float32),\n",
              " array([-0.9863617 , -0.3904544 , -0.05599791, -0.6248551 ,  1.8050025 ,\n",
              "         0.973321  ,  1.6638714 ,  1.3086858 , -2.2427886 ,  1.5078596 ],\n",
              "       dtype=float32),\n",
              " array([[ 1.3331822 , -2.3969653 ,  1.9512482 , -0.48527038,  0.32241002,\n",
              "          2.2300167 , -0.42173713,  1.2512158 , -1.0746397 , -0.27847168],\n",
              "        [ 1.2638534 , -0.35276687,  0.991602  , -0.22762027, -0.24081661,\n",
              "          1.734803  ,  0.09447683,  1.0835174 , -0.66308343, -0.13945186],\n",
              "        [ 0.9976035 , -1.0707494 ,  1.4454435 ,  0.00908398, -0.25229055,\n",
              "          1.5006504 , -0.0290439 ,  1.601239  , -0.39985603,  0.12029863],\n",
              "        [ 1.3222141 ,  0.29050362,  1.432752  , -0.3903909 , -0.32193673,\n",
              "          1.4593697 , -0.4470598 ,  1.5715292 , -0.25160852,  0.80713886],\n",
              "        [ 0.7923325 , -0.014582  , -0.9524887 , -0.02399075,  0.21843408,\n",
              "         -0.48736712, -0.1370388 , -0.54728645,  0.5139984 ,  0.13110514],\n",
              "        [-0.2042647 ,  0.56759787, -1.1829879 , -0.55406475, -0.37707376,\n",
              "         -0.45297697,  0.35855916,  0.2050396 ,  0.34560722,  0.21082594],\n",
              "        [ 0.85888153, -0.50835425,  0.7669992 ,  0.75005674, -1.2629344 ,\n",
              "          1.1581556 ,  0.07408822,  1.1342834 ,  0.26184833,  0.08832336],\n",
              "        [ 0.6983074 ,  0.3991626 , -1.2290287 ,  0.20578332,  0.2886816 ,\n",
              "          0.4197304 ,  0.38083118, -0.20136559,  0.60688967, -0.00878943],\n",
              "        [ 4.339056  , -4.131519  ,  5.817103  , -4.202103  , -3.4435523 ,\n",
              "          4.325652  , -6.4724593 ,  4.4302673 , -5.8114314 , -5.7951145 ],\n",
              "        [-1.3149426 , -0.5942703 , -4.1764407 , -1.4524701 , -0.66717964,\n",
              "         -0.290014  ,  0.2583834 , -1.0092229 ,  0.48849374, -0.7762744 ]],\n",
              "       dtype=float32),\n",
              " array([ 0.54272765, -0.07871064, -0.58958626,  0.41422522, -0.91768485,\n",
              "         0.35869002,  1.1821923 ,  0.2218205 ,  0.29856843, -0.15704468],\n",
              "       dtype=float32),\n",
              " array([[ 1.55702555e+00,  1.37683064e-01, -3.09033036e-01,\n",
              "         -2.23496944e-01,  8.81394520e-02,  1.28910109e-01,\n",
              "         -7.00119972e-01,  3.30309421e-01,  7.01250583e-02,\n",
              "          1.32347286e+00],\n",
              "        [ 2.96634108e-01, -7.99556315e-01, -1.32504776e-01,\n",
              "         -3.48559245e-02, -6.03164911e-01,  2.28953481e+00,\n",
              "         -6.69693768e-01, -7.45308697e-01, -5.28785169e-01,\n",
              "          1.75146013e-01],\n",
              "        [-1.68950691e+01,  1.42657719e+01,  1.42025766e+01,\n",
              "          1.40311689e+01,  1.44858618e+01,  6.93757677e+00,\n",
              "          1.87481213e+01,  1.47162504e+01,  1.42635298e+01,\n",
              "         -1.73152580e+01],\n",
              "        [-1.39216578e+00,  4.44430918e-01, -8.58229935e-01,\n",
              "          2.90880144e-01, -5.68233788e-01,  5.33077812e+00,\n",
              "         -1.23686469e+00, -1.27916291e-01,  3.94353345e-02,\n",
              "         -1.39903367e+00],\n",
              "        [-1.41395819e+00, -1.46307111e-01, -1.51454225e-01,\n",
              "         -7.52084613e-01, -6.58771098e-01,  1.28998697e+00,\n",
              "          7.13146806e-01,  6.25985712e-02,  1.44135430e-01,\n",
              "         -1.30388927e+00],\n",
              "        [ 1.69678700e+00, -2.98101366e-01,  4.35724646e-01,\n",
              "          2.82910109e-01, -1.20000698e-01, -9.42744315e-01,\n",
              "          2.93925643e-01, -5.19927025e-01, -7.48130456e-02,\n",
              "          1.95057380e+00],\n",
              "        [-7.12215662e-01,  7.76560903e-01,  1.08898222e+00,\n",
              "          1.17248356e+00,  8.27802479e-01,  1.38996673e+00,\n",
              "          9.86650050e-01,  1.16915786e+00,  6.74828708e-01,\n",
              "         -7.50804543e-02],\n",
              "        [ 1.39654827e+00,  1.11676835e-01, -1.95157498e-01,\n",
              "         -9.69158188e-02, -1.60344169e-01, -7.69077897e-01,\n",
              "          3.68709981e-01, -5.39236050e-03, -1.99127063e-01,\n",
              "          1.72843397e+00],\n",
              "        [-4.78969365e-01,  6.28907204e-01,  5.71676850e-01,\n",
              "          1.41977608e-01,  4.17943358e-01,  1.64121509e+00,\n",
              "          9.51178551e-01,  7.41959035e-01,  5.78750432e-01,\n",
              "         -5.39348543e-01],\n",
              "        [-8.52293372e-01, -1.69873536e-01, -3.81380796e-01,\n",
              "         -5.36152124e-01,  1.05118543e-01,  1.69598639e+00,\n",
              "         -1.35090411e+00, -6.89714909e-01, -5.35617054e-01,\n",
              "         -1.03379130e+00]], dtype=float32),\n",
              " array([0.4893814 , 0.60293776, 0.7090215 , 0.907772  , 0.9890836 ,\n",
              "        0.56601644, 0.56721246, 0.5313959 , 0.6594499 , 0.49078605],\n",
              "       dtype=float32),\n",
              " array([[ 1.5653455 ],\n",
              "        [-1.276254  ],\n",
              "        [-1.2755634 ],\n",
              "        [-0.54869854],\n",
              "        [-1.0518817 ],\n",
              "        [ 1.2586433 ],\n",
              "        [-0.97157127],\n",
              "        [-1.5191699 ],\n",
              "        [-0.9252292 ],\n",
              "        [ 2.2302697 ]], dtype=float32),\n",
              " array([0.5112317], dtype=float32)]"
            ]
          },
          "metadata": {
            "tags": []
          },
          "execution_count": 57
        }
      ]
    },
    {
      "cell_type": "code",
      "metadata": {
        "colab": {
          "base_uri": "https://localhost:8080/",
          "height": 1000
        },
        "id": "OWOIc4oKcdwD",
        "outputId": "58536515-911b-4552-a9fa-31f7fe32f959"
      },
      "source": [
        "df = pd.read_csv('오름데이터_csv.csv', encoding='utf-8')\r\n",
        "df"
      ],
      "execution_count": 58,
      "outputs": [
        {
          "output_type": "execute_result",
          "data": {
            "text/html": [
              "<div>\n",
              "<style scoped>\n",
              "    .dataframe tbody tr th:only-of-type {\n",
              "        vertical-align: middle;\n",
              "    }\n",
              "\n",
              "    .dataframe tbody tr th {\n",
              "        vertical-align: top;\n",
              "    }\n",
              "\n",
              "    .dataframe thead th {\n",
              "        text-align: right;\n",
              "    }\n",
              "</style>\n",
              "<table border=\"1\" class=\"dataframe\">\n",
              "  <thead>\n",
              "    <tr style=\"text-align: right;\">\n",
              "      <th></th>\n",
              "      <th>name</th>\n",
              "      <th>loc</th>\n",
              "      <th>men</th>\n",
              "      <th>women</th>\n",
              "      <th>age</th>\n",
              "    </tr>\n",
              "  </thead>\n",
              "  <tbody>\n",
              "    <tr>\n",
              "      <th>0</th>\n",
              "      <td>송악산</td>\n",
              "      <td>0</td>\n",
              "      <td>56</td>\n",
              "      <td>44</td>\n",
              "      <td>30</td>\n",
              "    </tr>\n",
              "    <tr>\n",
              "      <th>1</th>\n",
              "      <td>물영아리</td>\n",
              "      <td>0</td>\n",
              "      <td>54</td>\n",
              "      <td>46</td>\n",
              "      <td>20</td>\n",
              "    </tr>\n",
              "    <tr>\n",
              "      <th>2</th>\n",
              "      <td>이승이</td>\n",
              "      <td>0</td>\n",
              "      <td>61</td>\n",
              "      <td>39</td>\n",
              "      <td>30</td>\n",
              "    </tr>\n",
              "    <tr>\n",
              "      <th>3</th>\n",
              "      <td>머체왓숲길</td>\n",
              "      <td>0</td>\n",
              "      <td>47</td>\n",
              "      <td>53</td>\n",
              "      <td>50</td>\n",
              "    </tr>\n",
              "    <tr>\n",
              "      <th>4</th>\n",
              "      <td>성산일출봉</td>\n",
              "      <td>0</td>\n",
              "      <td>63</td>\n",
              "      <td>37</td>\n",
              "      <td>20</td>\n",
              "    </tr>\n",
              "    <tr>\n",
              "      <th>5</th>\n",
              "      <td>군산</td>\n",
              "      <td>0</td>\n",
              "      <td>65</td>\n",
              "      <td>35</td>\n",
              "      <td>30</td>\n",
              "    </tr>\n",
              "    <tr>\n",
              "      <th>6</th>\n",
              "      <td>용머리</td>\n",
              "      <td>0</td>\n",
              "      <td>59</td>\n",
              "      <td>41</td>\n",
              "      <td>20</td>\n",
              "    </tr>\n",
              "    <tr>\n",
              "      <th>7</th>\n",
              "      <td>따라비오름</td>\n",
              "      <td>0</td>\n",
              "      <td>56</td>\n",
              "      <td>44</td>\n",
              "      <td>30</td>\n",
              "    </tr>\n",
              "    <tr>\n",
              "      <th>8</th>\n",
              "      <td>영주산</td>\n",
              "      <td>0</td>\n",
              "      <td>49</td>\n",
              "      <td>51</td>\n",
              "      <td>30</td>\n",
              "    </tr>\n",
              "    <tr>\n",
              "      <th>9</th>\n",
              "      <td>백약이오름</td>\n",
              "      <td>0</td>\n",
              "      <td>42</td>\n",
              "      <td>58</td>\n",
              "      <td>20</td>\n",
              "    </tr>\n",
              "    <tr>\n",
              "      <th>10</th>\n",
              "      <td>붉은오름</td>\n",
              "      <td>0</td>\n",
              "      <td>50</td>\n",
              "      <td>50</td>\n",
              "      <td>30</td>\n",
              "    </tr>\n",
              "    <tr>\n",
              "      <th>11</th>\n",
              "      <td>고근산</td>\n",
              "      <td>0</td>\n",
              "      <td>50</td>\n",
              "      <td>50</td>\n",
              "      <td>50</td>\n",
              "    </tr>\n",
              "    <tr>\n",
              "      <th>12</th>\n",
              "      <td>거문오름</td>\n",
              "      <td>1</td>\n",
              "      <td>50</td>\n",
              "      <td>50</td>\n",
              "      <td>30</td>\n",
              "    </tr>\n",
              "    <tr>\n",
              "      <th>13</th>\n",
              "      <td>검은오름</td>\n",
              "      <td>1</td>\n",
              "      <td>46</td>\n",
              "      <td>54</td>\n",
              "      <td>20</td>\n",
              "    </tr>\n",
              "    <tr>\n",
              "      <th>14</th>\n",
              "      <td>궷물오름</td>\n",
              "      <td>1</td>\n",
              "      <td>54</td>\n",
              "      <td>46</td>\n",
              "      <td>20</td>\n",
              "    </tr>\n",
              "    <tr>\n",
              "      <th>15</th>\n",
              "      <td>다랑쉬</td>\n",
              "      <td>1</td>\n",
              "      <td>54</td>\n",
              "      <td>46</td>\n",
              "      <td>20</td>\n",
              "    </tr>\n",
              "    <tr>\n",
              "      <th>16</th>\n",
              "      <td>도두봉</td>\n",
              "      <td>1</td>\n",
              "      <td>48</td>\n",
              "      <td>52</td>\n",
              "      <td>20</td>\n",
              "    </tr>\n",
              "    <tr>\n",
              "      <th>17</th>\n",
              "      <td>물메(수산봉)</td>\n",
              "      <td>1</td>\n",
              "      <td>53</td>\n",
              "      <td>47</td>\n",
              "      <td>20</td>\n",
              "    </tr>\n",
              "    <tr>\n",
              "      <th>18</th>\n",
              "      <td>민오름</td>\n",
              "      <td>1</td>\n",
              "      <td>47</td>\n",
              "      <td>53</td>\n",
              "      <td>20</td>\n",
              "    </tr>\n",
              "    <tr>\n",
              "      <th>19</th>\n",
              "      <td>큰바리메오름</td>\n",
              "      <td>1</td>\n",
              "      <td>64</td>\n",
              "      <td>36</td>\n",
              "      <td>50</td>\n",
              "    </tr>\n",
              "    <tr>\n",
              "      <th>20</th>\n",
              "      <td>붉은오름</td>\n",
              "      <td>1</td>\n",
              "      <td>50</td>\n",
              "      <td>50</td>\n",
              "      <td>30</td>\n",
              "    </tr>\n",
              "    <tr>\n",
              "      <th>21</th>\n",
              "      <td>산굼부리</td>\n",
              "      <td>1</td>\n",
              "      <td>54</td>\n",
              "      <td>46</td>\n",
              "      <td>20</td>\n",
              "    </tr>\n",
              "    <tr>\n",
              "      <th>22</th>\n",
              "      <td>새별오름</td>\n",
              "      <td>1</td>\n",
              "      <td>50</td>\n",
              "      <td>50</td>\n",
              "      <td>20</td>\n",
              "    </tr>\n",
              "    <tr>\n",
              "      <th>23</th>\n",
              "      <td>서우봉</td>\n",
              "      <td>1</td>\n",
              "      <td>49</td>\n",
              "      <td>51</td>\n",
              "      <td>20</td>\n",
              "    </tr>\n",
              "    <tr>\n",
              "      <th>24</th>\n",
              "      <td>수월봉</td>\n",
              "      <td>1</td>\n",
              "      <td>55</td>\n",
              "      <td>45</td>\n",
              "      <td>20</td>\n",
              "    </tr>\n",
              "    <tr>\n",
              "      <th>25</th>\n",
              "      <td>아끈다랑쉬</td>\n",
              "      <td>1</td>\n",
              "      <td>50</td>\n",
              "      <td>50</td>\n",
              "      <td>30</td>\n",
              "    </tr>\n",
              "    <tr>\n",
              "      <th>26</th>\n",
              "      <td>아부오름</td>\n",
              "      <td>1</td>\n",
              "      <td>44</td>\n",
              "      <td>56</td>\n",
              "      <td>20</td>\n",
              "    </tr>\n",
              "    <tr>\n",
              "      <th>27</th>\n",
              "      <td>안돌오름</td>\n",
              "      <td>1</td>\n",
              "      <td>58</td>\n",
              "      <td>42</td>\n",
              "      <td>20</td>\n",
              "    </tr>\n",
              "    <tr>\n",
              "      <th>28</th>\n",
              "      <td>용눈이오름</td>\n",
              "      <td>1</td>\n",
              "      <td>42</td>\n",
              "      <td>58</td>\n",
              "      <td>20</td>\n",
              "    </tr>\n",
              "    <tr>\n",
              "      <th>29</th>\n",
              "      <td>저지오름</td>\n",
              "      <td>1</td>\n",
              "      <td>56</td>\n",
              "      <td>44</td>\n",
              "      <td>50</td>\n",
              "    </tr>\n",
              "    <tr>\n",
              "      <th>30</th>\n",
              "      <td>정물오름</td>\n",
              "      <td>1</td>\n",
              "      <td>62</td>\n",
              "      <td>38</td>\n",
              "      <td>40</td>\n",
              "    </tr>\n",
              "    <tr>\n",
              "      <th>31</th>\n",
              "      <td>지미봉</td>\n",
              "      <td>1</td>\n",
              "      <td>56</td>\n",
              "      <td>44</td>\n",
              "      <td>20</td>\n",
              "    </tr>\n",
              "  </tbody>\n",
              "</table>\n",
              "</div>"
            ],
            "text/plain": [
              "       name  loc  men  women  age\n",
              "0       송악산    0   56     44   30\n",
              "1      물영아리    0   54     46   20\n",
              "2       이승이    0   61     39   30\n",
              "3     머체왓숲길    0   47     53   50\n",
              "4     성산일출봉    0   63     37   20\n",
              "5        군산    0   65     35   30\n",
              "6       용머리    0   59     41   20\n",
              "7     따라비오름    0   56     44   30\n",
              "8       영주산    0   49     51   30\n",
              "9     백약이오름    0   42     58   20\n",
              "10     붉은오름    0   50     50   30\n",
              "11      고근산    0   50     50   50\n",
              "12     거문오름    1   50     50   30\n",
              "13     검은오름    1   46     54   20\n",
              "14     궷물오름    1   54     46   20\n",
              "15      다랑쉬    1   54     46   20\n",
              "16      도두봉    1   48     52   20\n",
              "17  물메(수산봉)    1   53     47   20\n",
              "18      민오름    1   47     53   20\n",
              "19   큰바리메오름    1   64     36   50\n",
              "20     붉은오름    1   50     50   30\n",
              "21     산굼부리    1   54     46   20\n",
              "22     새별오름    1   50     50   20\n",
              "23      서우봉    1   49     51   20\n",
              "24      수월봉    1   55     45   20\n",
              "25    아끈다랑쉬    1   50     50   30\n",
              "26     아부오름    1   44     56   20\n",
              "27     안돌오름    1   58     42   20\n",
              "28    용눈이오름    1   42     58   20\n",
              "29     저지오름    1   56     44   50\n",
              "30     정물오름    1   62     38   40\n",
              "31      지미봉    1   56     44   20"
            ]
          },
          "metadata": {
            "tags": []
          },
          "execution_count": 58
        }
      ]
    },
    {
      "cell_type": "code",
      "metadata": {
        "colab": {
          "base_uri": "https://localhost:8080/",
          "height": 270
        },
        "id": "bXSA2SHbfjcj",
        "outputId": "2cb7fa2d-523f-488f-ccb0-0962c2e94b04"
      },
      "source": [
        "encoded = pd.get_dummies(df)\r\n",
        "encoded.head()"
      ],
      "execution_count": 59,
      "outputs": [
        {
          "output_type": "execute_result",
          "data": {
            "text/html": [
              "<div>\n",
              "<style scoped>\n",
              "    .dataframe tbody tr th:only-of-type {\n",
              "        vertical-align: middle;\n",
              "    }\n",
              "\n",
              "    .dataframe tbody tr th {\n",
              "        vertical-align: top;\n",
              "    }\n",
              "\n",
              "    .dataframe thead th {\n",
              "        text-align: right;\n",
              "    }\n",
              "</style>\n",
              "<table border=\"1\" class=\"dataframe\">\n",
              "  <thead>\n",
              "    <tr style=\"text-align: right;\">\n",
              "      <th></th>\n",
              "      <th>loc</th>\n",
              "      <th>men</th>\n",
              "      <th>women</th>\n",
              "      <th>age</th>\n",
              "      <th>name_거문오름</th>\n",
              "      <th>name_검은오름</th>\n",
              "      <th>name_고근산</th>\n",
              "      <th>name_군산</th>\n",
              "      <th>name_궷물오름</th>\n",
              "      <th>name_다랑쉬</th>\n",
              "      <th>name_도두봉</th>\n",
              "      <th>name_따라비오름</th>\n",
              "      <th>name_머체왓숲길</th>\n",
              "      <th>name_물메(수산봉)</th>\n",
              "      <th>name_물영아리</th>\n",
              "      <th>name_민오름</th>\n",
              "      <th>name_백약이오름</th>\n",
              "      <th>name_붉은오름</th>\n",
              "      <th>name_산굼부리</th>\n",
              "      <th>name_새별오름</th>\n",
              "      <th>name_서우봉</th>\n",
              "      <th>name_성산일출봉</th>\n",
              "      <th>name_송악산</th>\n",
              "      <th>name_수월봉</th>\n",
              "      <th>name_아끈다랑쉬</th>\n",
              "      <th>name_아부오름</th>\n",
              "      <th>name_안돌오름</th>\n",
              "      <th>name_영주산</th>\n",
              "      <th>name_용눈이오름</th>\n",
              "      <th>name_용머리</th>\n",
              "      <th>name_이승이</th>\n",
              "      <th>name_저지오름</th>\n",
              "      <th>name_정물오름</th>\n",
              "      <th>name_지미봉</th>\n",
              "      <th>name_큰바리메오름</th>\n",
              "    </tr>\n",
              "  </thead>\n",
              "  <tbody>\n",
              "    <tr>\n",
              "      <th>0</th>\n",
              "      <td>0</td>\n",
              "      <td>56</td>\n",
              "      <td>44</td>\n",
              "      <td>30</td>\n",
              "      <td>0</td>\n",
              "      <td>0</td>\n",
              "      <td>0</td>\n",
              "      <td>0</td>\n",
              "      <td>0</td>\n",
              "      <td>0</td>\n",
              "      <td>0</td>\n",
              "      <td>0</td>\n",
              "      <td>0</td>\n",
              "      <td>0</td>\n",
              "      <td>0</td>\n",
              "      <td>0</td>\n",
              "      <td>0</td>\n",
              "      <td>0</td>\n",
              "      <td>0</td>\n",
              "      <td>0</td>\n",
              "      <td>0</td>\n",
              "      <td>0</td>\n",
              "      <td>1</td>\n",
              "      <td>0</td>\n",
              "      <td>0</td>\n",
              "      <td>0</td>\n",
              "      <td>0</td>\n",
              "      <td>0</td>\n",
              "      <td>0</td>\n",
              "      <td>0</td>\n",
              "      <td>0</td>\n",
              "      <td>0</td>\n",
              "      <td>0</td>\n",
              "      <td>0</td>\n",
              "      <td>0</td>\n",
              "    </tr>\n",
              "    <tr>\n",
              "      <th>1</th>\n",
              "      <td>0</td>\n",
              "      <td>54</td>\n",
              "      <td>46</td>\n",
              "      <td>20</td>\n",
              "      <td>0</td>\n",
              "      <td>0</td>\n",
              "      <td>0</td>\n",
              "      <td>0</td>\n",
              "      <td>0</td>\n",
              "      <td>0</td>\n",
              "      <td>0</td>\n",
              "      <td>0</td>\n",
              "      <td>0</td>\n",
              "      <td>0</td>\n",
              "      <td>1</td>\n",
              "      <td>0</td>\n",
              "      <td>0</td>\n",
              "      <td>0</td>\n",
              "      <td>0</td>\n",
              "      <td>0</td>\n",
              "      <td>0</td>\n",
              "      <td>0</td>\n",
              "      <td>0</td>\n",
              "      <td>0</td>\n",
              "      <td>0</td>\n",
              "      <td>0</td>\n",
              "      <td>0</td>\n",
              "      <td>0</td>\n",
              "      <td>0</td>\n",
              "      <td>0</td>\n",
              "      <td>0</td>\n",
              "      <td>0</td>\n",
              "      <td>0</td>\n",
              "      <td>0</td>\n",
              "      <td>0</td>\n",
              "    </tr>\n",
              "    <tr>\n",
              "      <th>2</th>\n",
              "      <td>0</td>\n",
              "      <td>61</td>\n",
              "      <td>39</td>\n",
              "      <td>30</td>\n",
              "      <td>0</td>\n",
              "      <td>0</td>\n",
              "      <td>0</td>\n",
              "      <td>0</td>\n",
              "      <td>0</td>\n",
              "      <td>0</td>\n",
              "      <td>0</td>\n",
              "      <td>0</td>\n",
              "      <td>0</td>\n",
              "      <td>0</td>\n",
              "      <td>0</td>\n",
              "      <td>0</td>\n",
              "      <td>0</td>\n",
              "      <td>0</td>\n",
              "      <td>0</td>\n",
              "      <td>0</td>\n",
              "      <td>0</td>\n",
              "      <td>0</td>\n",
              "      <td>0</td>\n",
              "      <td>0</td>\n",
              "      <td>0</td>\n",
              "      <td>0</td>\n",
              "      <td>0</td>\n",
              "      <td>0</td>\n",
              "      <td>0</td>\n",
              "      <td>0</td>\n",
              "      <td>1</td>\n",
              "      <td>0</td>\n",
              "      <td>0</td>\n",
              "      <td>0</td>\n",
              "      <td>0</td>\n",
              "    </tr>\n",
              "    <tr>\n",
              "      <th>3</th>\n",
              "      <td>0</td>\n",
              "      <td>47</td>\n",
              "      <td>53</td>\n",
              "      <td>50</td>\n",
              "      <td>0</td>\n",
              "      <td>0</td>\n",
              "      <td>0</td>\n",
              "      <td>0</td>\n",
              "      <td>0</td>\n",
              "      <td>0</td>\n",
              "      <td>0</td>\n",
              "      <td>0</td>\n",
              "      <td>1</td>\n",
              "      <td>0</td>\n",
              "      <td>0</td>\n",
              "      <td>0</td>\n",
              "      <td>0</td>\n",
              "      <td>0</td>\n",
              "      <td>0</td>\n",
              "      <td>0</td>\n",
              "      <td>0</td>\n",
              "      <td>0</td>\n",
              "      <td>0</td>\n",
              "      <td>0</td>\n",
              "      <td>0</td>\n",
              "      <td>0</td>\n",
              "      <td>0</td>\n",
              "      <td>0</td>\n",
              "      <td>0</td>\n",
              "      <td>0</td>\n",
              "      <td>0</td>\n",
              "      <td>0</td>\n",
              "      <td>0</td>\n",
              "      <td>0</td>\n",
              "      <td>0</td>\n",
              "    </tr>\n",
              "    <tr>\n",
              "      <th>4</th>\n",
              "      <td>0</td>\n",
              "      <td>63</td>\n",
              "      <td>37</td>\n",
              "      <td>20</td>\n",
              "      <td>0</td>\n",
              "      <td>0</td>\n",
              "      <td>0</td>\n",
              "      <td>0</td>\n",
              "      <td>0</td>\n",
              "      <td>0</td>\n",
              "      <td>0</td>\n",
              "      <td>0</td>\n",
              "      <td>0</td>\n",
              "      <td>0</td>\n",
              "      <td>0</td>\n",
              "      <td>0</td>\n",
              "      <td>0</td>\n",
              "      <td>0</td>\n",
              "      <td>0</td>\n",
              "      <td>0</td>\n",
              "      <td>0</td>\n",
              "      <td>1</td>\n",
              "      <td>0</td>\n",
              "      <td>0</td>\n",
              "      <td>0</td>\n",
              "      <td>0</td>\n",
              "      <td>0</td>\n",
              "      <td>0</td>\n",
              "      <td>0</td>\n",
              "      <td>0</td>\n",
              "      <td>0</td>\n",
              "      <td>0</td>\n",
              "      <td>0</td>\n",
              "      <td>0</td>\n",
              "      <td>0</td>\n",
              "    </tr>\n",
              "  </tbody>\n",
              "</table>\n",
              "</div>"
            ],
            "text/plain": [
              "   loc  men  women  age  ...  name_저지오름  name_정물오름  name_지미봉  name_큰바리메오름\n",
              "0    0   56     44   30  ...          0          0         0            0\n",
              "1    0   54     46   20  ...          0          0         0            0\n",
              "2    0   61     39   30  ...          0          0         0            0\n",
              "3    0   47     53   50  ...          0          0         0            0\n",
              "4    0   63     37   20  ...          0          0         0            0\n",
              "\n",
              "[5 rows x 35 columns]"
            ]
          },
          "metadata": {
            "tags": []
          },
          "execution_count": 59
        }
      ]
    },
    {
      "cell_type": "code",
      "metadata": {
        "colab": {
          "base_uri": "https://localhost:8080/"
        },
        "id": "E6aIvYbsggM_",
        "outputId": "6eb78faf-70c8-4dea-952f-a6bee929dc6c"
      },
      "source": [
        "print(encoded.columns)"
      ],
      "execution_count": 60,
      "outputs": [
        {
          "output_type": "stream",
          "text": [
            "Index(['loc', 'men', 'women', 'age', 'name_거문오름', 'name_검은오름', 'name_고근산',\n",
            "       'name_군산', 'name_궷물오름', 'name_다랑쉬', 'name_도두봉', 'name_따라비오름',\n",
            "       'name_머체왓숲길', 'name_물메(수산봉)', 'name_물영아리', 'name_민오름', 'name_백약이오름',\n",
            "       'name_붉은오름', 'name_산굼부리', 'name_새별오름', 'name_서우봉', 'name_성산일출봉',\n",
            "       'name_송악산', 'name_수월봉', 'name_아끈다랑쉬', 'name_아부오름', 'name_안돌오름',\n",
            "       'name_영주산', 'name_용눈이오름', 'name_용머리', 'name_이승이', 'name_저지오름',\n",
            "       'name_정물오름', 'name_지미봉', 'name_큰바리메오름'],\n",
            "      dtype='object')\n"
          ],
          "name": "stdout"
        }
      ]
    },
    {
      "cell_type": "code",
      "metadata": {
        "id": "YcrN_4B4hSto"
      },
      "source": [
        "독립 = encoded[['loc', 'men', 'women', 'age']]\r\n",
        "종속 = encoded[['name_거문오름', 'name_검은오름', 'name_고근산',\r\n",
        "       'name_군산', 'name_궷물오름', 'name_다랑쉬', 'name_도두봉', 'name_따라비오름',\r\n",
        "       'name_머체왓숲길', 'name_물메(수산봉)', 'name_물영아리', 'name_민오름', 'name_백약이오름',\r\n",
        "       'name_붉은오름', 'name_산굼부리', 'name_새별오름', 'name_서우봉', 'name_성산일출봉',\r\n",
        "       'name_송악산', 'name_수월봉', 'name_아끈다랑쉬', 'name_아부오름', 'name_안돌오름',\r\n",
        "       'name_영주산', 'name_용눈이오름', 'name_용머리', 'name_이승이', 'name_저지오름',\r\n",
        "       'name_정물오름', 'name_지미봉', 'name_큰바리메오름']]"
      ],
      "execution_count": 61,
      "outputs": []
    },
    {
      "cell_type": "code",
      "metadata": {
        "colab": {
          "base_uri": "https://localhost:8080/"
        },
        "id": "CBBD-Vumhgx4",
        "outputId": "c892650a-8c62-4019-ce46-a25683bee909"
      },
      "source": [
        "독립.shape, 종속.shape"
      ],
      "execution_count": 62,
      "outputs": [
        {
          "output_type": "execute_result",
          "data": {
            "text/plain": [
              "((32, 4), (32, 31))"
            ]
          },
          "metadata": {
            "tags": []
          },
          "execution_count": 62
        }
      ]
    },
    {
      "cell_type": "code",
      "metadata": {
        "id": "XD23G7PPhmln"
      },
      "source": [
        "## 모델 준비\r\n",
        "\r\n",
        "X = tf.keras.layers.Input(shape=[4]) # 독립변수의 col\r\n",
        "Y = tf.keras.layers.Dense(31, activation='softmax')(X) # 종속변수의 col\r\n",
        "model = tf.keras.models.Model(X, Y)\r\n",
        "model.compile(loss='categorical_crossentropy', metrics='accuracy')"
      ],
      "execution_count": 73,
      "outputs": []
    },
    {
      "cell_type": "code",
      "metadata": {
        "colab": {
          "base_uri": "https://localhost:8080/"
        },
        "id": "q55WKBpxiAo6",
        "outputId": "23053687-e805-41e7-f3e5-06893198f2f4"
      },
      "source": [
        "## 모델 학습\r\n",
        "model.fit(독립, 종속, epochs=10, verbose=0) # epochs는 학습 수\r\n",
        "model.fit(독립, 종속, epochs=10) # epochs는 학습 수"
      ],
      "execution_count": 76,
      "outputs": [
        {
          "output_type": "stream",
          "text": [
            "Epoch 1/10\n",
            "1/1 [==============================] - 0s 4ms/step - loss: 0.3064 - accuracy: 0.8438\n",
            "Epoch 2/10\n",
            "1/1 [==============================] - 0s 6ms/step - loss: 0.3063 - accuracy: 0.8438\n",
            "Epoch 3/10\n",
            "1/1 [==============================] - 0s 3ms/step - loss: 0.3064 - accuracy: 0.8438\n",
            "Epoch 4/10\n",
            "1/1 [==============================] - 0s 5ms/step - loss: 0.3064 - accuracy: 0.8438\n",
            "Epoch 5/10\n",
            "1/1 [==============================] - 0s 6ms/step - loss: 0.3064 - accuracy: 0.8438\n",
            "Epoch 6/10\n",
            "1/1 [==============================] - 0s 5ms/step - loss: 0.3064 - accuracy: 0.8438\n",
            "Epoch 7/10\n",
            "1/1 [==============================] - 0s 3ms/step - loss: 0.3063 - accuracy: 0.8438\n",
            "Epoch 8/10\n",
            "1/1 [==============================] - 0s 5ms/step - loss: 0.3062 - accuracy: 0.8438\n",
            "Epoch 9/10\n",
            "1/1 [==============================] - 0s 4ms/step - loss: 0.3062 - accuracy: 0.8438\n",
            "Epoch 10/10\n",
            "1/1 [==============================] - 0s 3ms/step - loss: 0.3062 - accuracy: 0.8438\n"
          ],
          "name": "stdout"
        },
        {
          "output_type": "execute_result",
          "data": {
            "text/plain": [
              "<tensorflow.python.keras.callbacks.History at 0x7f2b81c1fcc0>"
            ]
          },
          "metadata": {
            "tags": []
          },
          "execution_count": 76
        }
      ]
    },
    {
      "cell_type": "code",
      "metadata": {
        "colab": {
          "base_uri": "https://localhost:8080/"
        },
        "id": "8WbvvR1lk6rx",
        "outputId": "83ecc4ca-763e-4ebb-94b7-d346a703997d"
      },
      "source": [
        "model.predict([[0, 60, 40, 40]])"
      ],
      "execution_count": 80,
      "outputs": [
        {
          "output_type": "execute_result",
          "data": {
            "text/plain": [
              "array([[0.0000000e+00, 0.0000000e+00, 7.4926374e-25, 5.2679330e-16,\n",
              "        3.4045706e-38, 3.2395806e-38, 0.0000000e+00, 1.0601262e-34,\n",
              "        0.0000000e+00, 0.0000000e+00, 0.0000000e+00, 0.0000000e+00,\n",
              "        0.0000000e+00, 0.0000000e+00, 2.1793699e-38, 0.0000000e+00,\n",
              "        0.0000000e+00, 0.0000000e+00, 9.5307199e-35, 7.7137027e-29,\n",
              "        0.0000000e+00, 0.0000000e+00, 1.9735566e-25, 0.0000000e+00,\n",
              "        0.0000000e+00, 5.6146159e-25, 5.4148604e-06, 7.6698935e-14,\n",
              "        9.9999452e-01, 3.3145948e-16, 1.0673189e-07]], dtype=float32)"
            ]
          },
          "metadata": {
            "tags": []
          },
          "execution_count": 80
        }
      ]
    },
    {
      "cell_type": "code",
      "metadata": {
        "colab": {
          "base_uri": "https://localhost:8080/"
        },
        "id": "tLLrCmXllB1_",
        "outputId": "97de0939-7088-446e-991d-7add550244e4"
      },
      "source": [
        "result_predict = model.predict([[0, 60, 40, 50]])[0]\r\n",
        "result_name = ['name_거문오름',\r\n",
        "       'name_검은오름', 'name_고근산', 'name_군산', 'name_궷물오름', 'name_다랑쉬', 'name_도두봉',\r\n",
        "       'name_따라비오름', 'name_물메(수산봉)', 'name_물영아리', 'name_민오름', 'name_백약이오름',\r\n",
        "       'name_붉은오름', 'name_산굼부리', 'name_새별오름', 'name_서우봉', 'name_성산일출봉',\r\n",
        "       'name_송악산', 'name_수월봉', 'name_아끈다랑쉬', 'name_아부오름', 'name_안돌오름',\r\n",
        "       'name_영주산', 'name_용눈이오름', 'name_용머리', 'name_이승이', 'name_저지오름',\r\n",
        "       'name_정물오름', 'name_지미봉', 'name_큰바리메오름']\r\n",
        "\r\n",
        "result = list(zip(result_predict*100, result_name))\r\n",
        "result"
      ],
      "execution_count": 83,
      "outputs": [
        {
          "output_type": "execute_result",
          "data": {
            "text/plain": [
              "[(0.0, 'name_거문오름'),\n",
              " (0.0, 'name_검은오름'),\n",
              " (3.4738193e-28, 'name_고근산'),\n",
              " (0.0, 'name_군산'),\n",
              " (0.0, 'name_궷물오름'),\n",
              " (0.0, 'name_다랑쉬'),\n",
              " (0.0, 'name_도두봉'),\n",
              " (0.0, 'name_따라비오름'),\n",
              " (0.0, 'name_물메(수산봉)'),\n",
              " (0.0, 'name_물영아리'),\n",
              " (0.0, 'name_민오름'),\n",
              " (0.0, 'name_백약이오름'),\n",
              " (0.0, 'name_붉은오름'),\n",
              " (0.0, 'name_산굼부리'),\n",
              " (0.0, 'name_새별오름'),\n",
              " (0.0, 'name_서우봉'),\n",
              " (0.0, 'name_성산일출봉'),\n",
              " (0.0, 'name_송악산'),\n",
              " (0.0, 'name_수월봉'),\n",
              " (0.0, 'name_아끈다랑쉬'),\n",
              " (0.0, 'name_아부오름'),\n",
              " (0.0, 'name_안돌오름'),\n",
              " (0.0, 'name_영주산'),\n",
              " (0.0, 'name_용눈이오름'),\n",
              " (0.0, 'name_용머리'),\n",
              " (0.0, 'name_이승이'),\n",
              " (0.0, 'name_저지오름'),\n",
              " (4.8624133e-14, 'name_정물오름'),\n",
              " (1.4663941e-10, 'name_지미봉'),\n",
              " (0.0, 'name_큰바리메오름')]"
            ]
          },
          "metadata": {
            "tags": []
          },
          "execution_count": 83
        }
      ]
    },
    {
      "cell_type": "code",
      "metadata": {
        "colab": {
          "base_uri": "https://localhost:8080/"
        },
        "id": "-n48zxQHlwYx",
        "outputId": "d783f66a-2b73-4753-9b3d-badad439a867"
      },
      "source": [
        "sorted(result, key=lambda x:x[0], reverse=True)"
      ],
      "execution_count": 84,
      "outputs": [
        {
          "output_type": "execute_result",
          "data": {
            "text/plain": [
              "[(1.4663941e-10, 'name_지미봉'),\n",
              " (4.8624133e-14, 'name_정물오름'),\n",
              " (3.4738193e-28, 'name_고근산'),\n",
              " (0.0, 'name_거문오름'),\n",
              " (0.0, 'name_검은오름'),\n",
              " (0.0, 'name_군산'),\n",
              " (0.0, 'name_궷물오름'),\n",
              " (0.0, 'name_다랑쉬'),\n",
              " (0.0, 'name_도두봉'),\n",
              " (0.0, 'name_따라비오름'),\n",
              " (0.0, 'name_물메(수산봉)'),\n",
              " (0.0, 'name_물영아리'),\n",
              " (0.0, 'name_민오름'),\n",
              " (0.0, 'name_백약이오름'),\n",
              " (0.0, 'name_붉은오름'),\n",
              " (0.0, 'name_산굼부리'),\n",
              " (0.0, 'name_새별오름'),\n",
              " (0.0, 'name_서우봉'),\n",
              " (0.0, 'name_성산일출봉'),\n",
              " (0.0, 'name_송악산'),\n",
              " (0.0, 'name_수월봉'),\n",
              " (0.0, 'name_아끈다랑쉬'),\n",
              " (0.0, 'name_아부오름'),\n",
              " (0.0, 'name_안돌오름'),\n",
              " (0.0, 'name_영주산'),\n",
              " (0.0, 'name_용눈이오름'),\n",
              " (0.0, 'name_용머리'),\n",
              " (0.0, 'name_이승이'),\n",
              " (0.0, 'name_저지오름'),\n",
              " (0.0, 'name_큰바리메오름')]"
            ]
          },
          "metadata": {
            "tags": []
          },
          "execution_count": 84
        }
      ]
    },
    {
      "cell_type": "code",
      "metadata": {
        "colab": {
          "base_uri": "https://localhost:8080/"
        },
        "id": "ZN0VA_LXmd_0",
        "outputId": "0b8686d9-74b0-46e8-e98d-6744b6a26dc6"
      },
      "source": [
        "def 제곱(x):\r\n",
        "    return x**2\r\n",
        "\r\n",
        "제곱람다 = lambda x:x**2\r\n",
        "제곱람다(10)"
      ],
      "execution_count": 85,
      "outputs": [
        {
          "output_type": "execute_result",
          "data": {
            "text/plain": [
              "100"
            ]
          },
          "metadata": {
            "tags": []
          },
          "execution_count": 85
        }
      ]
    },
    {
      "cell_type": "code",
      "metadata": {
        "id": "0XF_YhLmmyRF"
      },
      "source": [
        "test = [('일하나', 34, 100, 68),\r\n",
        "        ('이하나', 84, 32, 32),\r\n",
        "        ('삼하나', 54, 48, 78),\r\n",
        "        ('사하나', 97, 91, 21),\r\n",
        "        ('오하나', 92, 84, 11)]"
      ],
      "execution_count": 89,
      "outputs": []
    },
    {
      "cell_type": "code",
      "metadata": {
        "colab": {
          "base_uri": "https://localhost:8080/"
        },
        "id": "s26SSfkFnO6Z",
        "outputId": "c49d039d-e941-435e-facf-0663940d085f"
      },
      "source": [
        "sorted(test, key=lambda x:x[1], reverse=True)"
      ],
      "execution_count": 91,
      "outputs": [
        {
          "output_type": "execute_result",
          "data": {
            "text/plain": [
              "[('사하나', 97, 91, 21),\n",
              " ('오하나', 92, 84, 11),\n",
              " ('이하나', 84, 32, 32),\n",
              " ('삼하나', 54, 48, 78),\n",
              " ('일하나', 34, 100, 68)]"
            ]
          },
          "metadata": {
            "tags": []
          },
          "execution_count": 91
        }
      ]
    },
    {
      "cell_type": "code",
      "metadata": {
        "colab": {
          "base_uri": "https://localhost:8080/",
          "height": 34
        },
        "id": "CUtSq_vinTgd",
        "outputId": "825027ff-81c9-467f-ae64-18161fb07abd"
      },
      "source": [
        "result[0][1][5:]\r\n"
      ],
      "execution_count": 94,
      "outputs": [
        {
          "output_type": "execute_result",
          "data": {
            "application/vnd.google.colaboratory.intrinsic+json": {
              "type": "string"
            },
            "text/plain": [
              "'거문오름'"
            ]
          },
          "metadata": {
            "tags": []
          },
          "execution_count": 94
        }
      ]
    },
    {
      "cell_type": "code",
      "metadata": {
        "colab": {
          "base_uri": "https://localhost:8080/"
        },
        "id": "Qq5eWofMoSZJ",
        "outputId": "a3e8e4fd-068c-49d7-8042-3752639fa8ec"
      },
      "source": [
        "추천리스트 = []\r\n",
        "for i in range(5):\r\n",
        "    추천리스트.append([result[i][1][5:]])\r\n",
        "\r\n",
        "추천리스트"
      ],
      "execution_count": 99,
      "outputs": [
        {
          "output_type": "execute_result",
          "data": {
            "text/plain": [
              "[['거문오름'], ['검은오름'], ['고근산'], ['군산'], ['궷물오름']]"
            ]
          },
          "metadata": {
            "tags": []
          },
          "execution_count": 99
        }
      ]
    },
    {
      "cell_type": "code",
      "metadata": {
        "colab": {
          "base_uri": "https://localhost:8080/"
        },
        "id": "nNUHzlq8o24A",
        "outputId": "491cc1c0-c811-4521-f0b2-7efa47924e43"
      },
      "source": [
        "result"
      ],
      "execution_count": 100,
      "outputs": [
        {
          "output_type": "execute_result",
          "data": {
            "text/plain": [
              "[(0.0, 'name_거문오름'),\n",
              " (0.0, 'name_검은오름'),\n",
              " (3.4738193e-28, 'name_고근산'),\n",
              " (0.0, 'name_군산'),\n",
              " (0.0, 'name_궷물오름'),\n",
              " (0.0, 'name_다랑쉬'),\n",
              " (0.0, 'name_도두봉'),\n",
              " (0.0, 'name_따라비오름'),\n",
              " (0.0, 'name_물메(수산봉)'),\n",
              " (0.0, 'name_물영아리'),\n",
              " (0.0, 'name_민오름'),\n",
              " (0.0, 'name_백약이오름'),\n",
              " (0.0, 'name_붉은오름'),\n",
              " (0.0, 'name_산굼부리'),\n",
              " (0.0, 'name_새별오름'),\n",
              " (0.0, 'name_서우봉'),\n",
              " (0.0, 'name_성산일출봉'),\n",
              " (0.0, 'name_송악산'),\n",
              " (0.0, 'name_수월봉'),\n",
              " (0.0, 'name_아끈다랑쉬'),\n",
              " (0.0, 'name_아부오름'),\n",
              " (0.0, 'name_안돌오름'),\n",
              " (0.0, 'name_영주산'),\n",
              " (0.0, 'name_용눈이오름'),\n",
              " (0.0, 'name_용머리'),\n",
              " (0.0, 'name_이승이'),\n",
              " (0.0, 'name_저지오름'),\n",
              " (4.8624133e-14, 'name_정물오름'),\n",
              " (1.4663941e-10, 'name_지미봉'),\n",
              " (0.0, 'name_큰바리메오름')]"
            ]
          },
          "metadata": {
            "tags": []
          },
          "execution_count": 100
        }
      ]
    },
    {
      "cell_type": "code",
      "metadata": {
        "id": "IOsInXd-o8G8"
      },
      "source": [
        ""
      ],
      "execution_count": null,
      "outputs": []
    },
    {
      "cell_type": "markdown",
      "metadata": {
        "id": "4MbSryBuorH5"
      },
      "source": [
        ""
      ]
    }
  ]
}