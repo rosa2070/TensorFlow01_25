{
  "nbformat": 4,
  "nbformat_minor": 0,
  "metadata": {
    "colab": {
      "name": "TensorFlow.ipynb",
      "provenance": [],
      "authorship_tag": "ABX9TyPC7lz2RSjpl8uFbVdm52Sj",
      "include_colab_link": true
    },
    "kernelspec": {
      "name": "python3",
      "display_name": "Python 3"
    }
  },
  "cells": [
    {
      "cell_type": "markdown",
      "metadata": {
        "id": "view-in-github",
        "colab_type": "text"
      },
      "source": [
        "<a href=\"https://colab.research.google.com/github/rosa2070/TensorFlow01_25/blob/main/TensorFlow.ipynb\" target=\"_parent\"><img src=\"https://colab.research.google.com/assets/colab-badge.svg\" alt=\"Open In Colab\"/></a>"
      ]
    },
    {
      "cell_type": "markdown",
      "metadata": {
        "id": "-68nOQiqeZCK"
      },
      "source": [
        "\r\n",
        "## TensorFlow로 알아보는 딥러닝\r\n",
        "\r\n"
      ]
    },
    {
      "cell_type": "code",
      "metadata": {
        "id": "CljyRcZnc-H6"
      },
      "source": [
        "import tensorflow as tf\r\n",
        "import pandas as pd"
      ],
      "execution_count": 1,
      "outputs": []
    },
    {
      "cell_type": "code",
      "metadata": {
        "colab": {
          "base_uri": "https://localhost:8080/",
          "height": 199
        },
        "id": "IhiA7FVsfppS",
        "outputId": "cc2c223e-c37d-4ebd-ae6b-e1878532fdc1"
      },
      "source": [
        "data = {\r\n",
        "    '창업연차' : [4, 5, 6, 7, 8],\r\n",
        "    '매출액(억)' : [8, 10, 12, 14, 16]\r\n",
        "}\r\n",
        "\r\n",
        "df = pd.DataFrame(data)\r\n",
        "df"
      ],
      "execution_count": 2,
      "outputs": [
        {
          "output_type": "execute_result",
          "data": {
            "text/html": [
              "<div>\n",
              "<style scoped>\n",
              "    .dataframe tbody tr th:only-of-type {\n",
              "        vertical-align: middle;\n",
              "    }\n",
              "\n",
              "    .dataframe tbody tr th {\n",
              "        vertical-align: top;\n",
              "    }\n",
              "\n",
              "    .dataframe thead th {\n",
              "        text-align: right;\n",
              "    }\n",
              "</style>\n",
              "<table border=\"1\" class=\"dataframe\">\n",
              "  <thead>\n",
              "    <tr style=\"text-align: right;\">\n",
              "      <th></th>\n",
              "      <th>창업연차</th>\n",
              "      <th>매출액(억)</th>\n",
              "    </tr>\n",
              "  </thead>\n",
              "  <tbody>\n",
              "    <tr>\n",
              "      <th>0</th>\n",
              "      <td>4</td>\n",
              "      <td>8</td>\n",
              "    </tr>\n",
              "    <tr>\n",
              "      <th>1</th>\n",
              "      <td>5</td>\n",
              "      <td>10</td>\n",
              "    </tr>\n",
              "    <tr>\n",
              "      <th>2</th>\n",
              "      <td>6</td>\n",
              "      <td>12</td>\n",
              "    </tr>\n",
              "    <tr>\n",
              "      <th>3</th>\n",
              "      <td>7</td>\n",
              "      <td>14</td>\n",
              "    </tr>\n",
              "    <tr>\n",
              "      <th>4</th>\n",
              "      <td>8</td>\n",
              "      <td>16</td>\n",
              "    </tr>\n",
              "  </tbody>\n",
              "</table>\n",
              "</div>"
            ],
            "text/plain": [
              "   창업연차  매출액(억)\n",
              "0     4       8\n",
              "1     5      10\n",
              "2     6      12\n",
              "3     7      14\n",
              "4     8      16"
            ]
          },
          "metadata": {
            "tags": []
          },
          "execution_count": 2
        }
      ]
    },
    {
      "cell_type": "code",
      "metadata": {
        "colab": {
          "base_uri": "https://localhost:8080/"
        },
        "id": "QoaaZfCMg_8n",
        "outputId": "6878d884-e9ee-4fcf-dec9-f18ebce2e011"
      },
      "source": [
        "독립 = df[['창업연차']] # 원인\r\n",
        "종속 = df[['매출액(억)']] # 결과\r\n",
        "\r\n",
        "독립.shape, 종속.shape"
      ],
      "execution_count": 4,
      "outputs": [
        {
          "output_type": "execute_result",
          "data": {
            "text/plain": [
              "((5, 1), (5, 1))"
            ]
          },
          "metadata": {
            "tags": []
          },
          "execution_count": 4
        }
      ]
    },
    {
      "cell_type": "code",
      "metadata": {
        "id": "453E0m-PiXvJ"
      },
      "source": [
        "## 모델 준비(y = wx + b)\r\n",
        "X = tf.keras.layers.Input(shape=[1]) # 독립변수의 col\r\n",
        "Y = tf.keras.layers.Dense(1)(X) # 종속변수의 col\r\n",
        "model = tf.keras.models.Model(X, Y)\r\n",
        "model.compile(loss='mse') \r\n",
        "#MSE(mean squared error) : 회귀 용도의 딥러닝 모델을 훈련시킬 때 사용되는 손실 함수"
      ],
      "execution_count": 6,
      "outputs": []
    },
    {
      "cell_type": "code",
      "metadata": {
        "colab": {
          "base_uri": "https://localhost:8080/"
        },
        "id": "FswPxw44jhqs",
        "outputId": "f1f2589f-dbf1-4f33-d17d-cc242e0697cf"
      },
      "source": [
        "model.fit(독립, 종속, epochs = 10)"
      ],
      "execution_count": 7,
      "outputs": [
        {
          "output_type": "stream",
          "text": [
            "Epoch 1/10\n",
            "1/1 [==============================] - 1s 520ms/step - loss: 160.4822\n",
            "Epoch 2/10\n",
            "1/1 [==============================] - 0s 6ms/step - loss: 159.9109\n",
            "Epoch 3/10\n",
            "1/1 [==============================] - 0s 4ms/step - loss: 159.4973\n",
            "Epoch 4/10\n",
            "1/1 [==============================] - 0s 4ms/step - loss: 159.1517\n",
            "Epoch 5/10\n",
            "1/1 [==============================] - 0s 5ms/step - loss: 158.8453\n",
            "Epoch 6/10\n",
            "1/1 [==============================] - 0s 7ms/step - loss: 158.5648\n",
            "Epoch 7/10\n",
            "1/1 [==============================] - 0s 4ms/step - loss: 158.3029\n",
            "Epoch 8/10\n",
            "1/1 [==============================] - 0s 4ms/step - loss: 158.0550\n",
            "Epoch 9/10\n",
            "1/1 [==============================] - 0s 4ms/step - loss: 157.8179\n",
            "Epoch 10/10\n",
            "1/1 [==============================] - 0s 4ms/step - loss: 157.5895\n"
          ],
          "name": "stdout"
        },
        {
          "output_type": "execute_result",
          "data": {
            "text/plain": [
              "<tensorflow.python.keras.callbacks.History at 0x7f7ffc89fa58>"
            ]
          },
          "metadata": {
            "tags": []
          },
          "execution_count": 7
        }
      ]
    },
    {
      "cell_type": "code",
      "metadata": {
        "colab": {
          "base_uri": "https://localhost:8080/"
        },
        "id": "9IEEec7GjwC8",
        "outputId": "e5b45ee2-97ce-4ae1-b58c-faaab52d55d1"
      },
      "source": [
        "model.predict([10])"
      ],
      "execution_count": 8,
      "outputs": [
        {
          "output_type": "execute_result",
          "data": {
            "text/plain": [
              "array([[-0.36012468]], dtype=float32)"
            ]
          },
          "metadata": {
            "tags": []
          },
          "execution_count": 8
        }
      ]
    },
    {
      "cell_type": "code",
      "metadata": {
        "colab": {
          "base_uri": "https://localhost:8080/"
        },
        "id": "eG6s3ReEkAQX",
        "outputId": "6e698f41-d4ce-4c5e-d7fc-df76b6ec2510"
      },
      "source": [
        "model.predict(독립)"
      ],
      "execution_count": 9,
      "outputs": [
        {
          "output_type": "execute_result",
          "data": {
            "text/plain": [
              "array([[-0.13366769],\n",
              "       [-0.17141052],\n",
              "       [-0.20915335],\n",
              "       [-0.24689619],\n",
              "       [-0.28463903]], dtype=float32)"
            ]
          },
          "metadata": {
            "tags": []
          },
          "execution_count": 9
        }
      ]
    },
    {
      "cell_type": "code",
      "metadata": {
        "colab": {
          "base_uri": "https://localhost:8080/"
        },
        "id": "II13vlSlkIhZ",
        "outputId": "24eaac40-b9bf-415a-88bb-a828f89abf8c"
      },
      "source": [
        "#y = wx + b\r\n",
        "\r\n",
        "model.get_weights()"
      ],
      "execution_count": 10,
      "outputs": [
        {
          "output_type": "execute_result",
          "data": {
            "text/plain": [
              "[array([[-0.03774283]], dtype=float32), array([0.01730363], dtype=float32)]"
            ]
          },
          "metadata": {
            "tags": []
          },
          "execution_count": 10
        }
      ]
    },
    {
      "cell_type": "code",
      "metadata": {
        "colab": {
          "base_uri": "https://localhost:8080/"
        },
        "id": "sk8hcM6RkbPY",
        "outputId": "44012b5d-8c76-4b54-bc02-96b1d2356e70"
      },
      "source": [
        "-0.03774283 * 10 + 0.01730363"
      ],
      "execution_count": 12,
      "outputs": [
        {
          "output_type": "execute_result",
          "data": {
            "text/plain": [
              "-0.36012467"
            ]
          },
          "metadata": {
            "tags": []
          },
          "execution_count": 12
        }
      ]
    },
    {
      "cell_type": "code",
      "metadata": {
        "colab": {
          "base_uri": "https://localhost:8080/"
        },
        "id": "tfxJnn4Ykq5m",
        "outputId": "8baddc22-58b7-4579-8c17-961777b16f9d"
      },
      "source": [
        "model.fit(독립, 종속, epochs = 10000, verbose=0)\r\n",
        "model.fit(독립, 종속, epochs = 10)"
      ],
      "execution_count": 13,
      "outputs": [
        {
          "output_type": "stream",
          "text": [
            "Epoch 1/10\n",
            "1/1 [==============================] - 0s 4ms/step - loss: 1.2749e-05\n",
            "Epoch 2/10\n",
            "1/1 [==============================] - 0s 8ms/step - loss: 1.2750e-05\n",
            "Epoch 3/10\n",
            "1/1 [==============================] - 0s 4ms/step - loss: 1.2749e-05\n",
            "Epoch 4/10\n",
            "1/1 [==============================] - 0s 3ms/step - loss: 1.2750e-05\n",
            "Epoch 5/10\n",
            "1/1 [==============================] - 0s 4ms/step - loss: 1.2749e-05\n",
            "Epoch 6/10\n",
            "1/1 [==============================] - 0s 4ms/step - loss: 1.2750e-05\n",
            "Epoch 7/10\n",
            "1/1 [==============================] - 0s 3ms/step - loss: 1.2749e-05\n",
            "Epoch 8/10\n",
            "1/1 [==============================] - 0s 3ms/step - loss: 1.2750e-05\n",
            "Epoch 9/10\n",
            "1/1 [==============================] - 0s 5ms/step - loss: 1.2749e-05\n",
            "Epoch 10/10\n",
            "1/1 [==============================] - 0s 4ms/step - loss: 1.2750e-05\n"
          ],
          "name": "stdout"
        },
        {
          "output_type": "execute_result",
          "data": {
            "text/plain": [
              "<tensorflow.python.keras.callbacks.History at 0x7f7ff91506a0>"
            ]
          },
          "metadata": {
            "tags": []
          },
          "execution_count": 13
        }
      ]
    },
    {
      "cell_type": "code",
      "metadata": {
        "colab": {
          "base_uri": "https://localhost:8080/"
        },
        "id": "S4Ub7QXWlBdc",
        "outputId": "47f42424-e233-4c8c-91d5-32a5cab49524"
      },
      "source": [
        "model.predict(독립)"
      ],
      "execution_count": 14,
      "outputs": [
        {
          "output_type": "execute_result",
          "data": {
            "text/plain": [
              "array([[ 8.002501],\n",
              "       [10.003   ],\n",
              "       [12.0035  ],\n",
              "       [14.004   ],\n",
              "       [16.0045  ]], dtype=float32)"
            ]
          },
          "metadata": {
            "tags": []
          },
          "execution_count": 14
        }
      ]
    },
    {
      "cell_type": "code",
      "metadata": {
        "colab": {
          "base_uri": "https://localhost:8080/"
        },
        "id": "1dFePUF2kmgY",
        "outputId": "0aeef8e6-cf64-417b-f48e-d228f4c4d9e6"
      },
      "source": [
        "model.predict([10])"
      ],
      "execution_count": 15,
      "outputs": [
        {
          "output_type": "execute_result",
          "data": {
            "text/plain": [
              "array([[20.005499]], dtype=float32)"
            ]
          },
          "metadata": {
            "tags": []
          },
          "execution_count": 15
        }
      ]
    },
    {
      "cell_type": "code",
      "metadata": {
        "colab": {
          "base_uri": "https://localhost:8080/"
        },
        "id": "tFKvH9NUlbDf",
        "outputId": "5ecedfd9-7f1c-4d2d-eee5-92a3388ad9db"
      },
      "source": [
        "#y = wx + b\r\n",
        "\r\n",
        "model.get_weights()"
      ],
      "execution_count": 16,
      "outputs": [
        {
          "output_type": "execute_result",
          "data": {
            "text/plain": [
              "[array([[2.0004997]], dtype=float32), array([0.00050134], dtype=float32)]"
            ]
          },
          "metadata": {
            "tags": []
          },
          "execution_count": 16
        }
      ]
    },
    {
      "cell_type": "code",
      "metadata": {
        "colab": {
          "base_uri": "https://localhost:8080/"
        },
        "id": "J4HJFGUnlnwI",
        "outputId": "a3cb6469-c945-4513-935d-7ca791046ef5"
      },
      "source": [
        "2.0004997 * 10 + 0.00050134"
      ],
      "execution_count": 17,
      "outputs": [
        {
          "output_type": "execute_result",
          "data": {
            "text/plain": [
              "20.005498340000003"
            ]
          },
          "metadata": {
            "tags": []
          },
          "execution_count": 17
        }
      ]
    },
    {
      "cell_type": "code",
      "metadata": {
        "id": "EREW68ofltKX"
      },
      "source": [
        ""
      ],
      "execution_count": null,
      "outputs": []
    }
  ]
}